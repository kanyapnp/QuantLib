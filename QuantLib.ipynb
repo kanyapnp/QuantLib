{
 "cells": [
  {
   "cell_type": "markdown",
   "metadata": {},
   "source": [
    "# QuantLib Overview"
   ]
  },
  {
   "cell_type": "markdown",
   "metadata": {},
   "source": [
    "## Install\n",
    "1. Download \"WinPython\" from https://sourceforge.net/projects/winpython/files/WinPython_3.4/3.4.4.1/WinPython-64bit-3.4.4.1.exe/download \n",
    "2. Download \"quantlib\" from http://www.lfd.uci.edu/~gohlke/pythonlibs/\n",
    "3. Open \"quantlib.whl\" package with \"WinPython Control Panel\"    "
   ]
  },
  {
   "cell_type": "markdown",
   "metadata": {},
   "source": [
    "## Some features\n",
    "* TARGET - Trans-European Automated Real-time Gross settlement Express Transfer\n",
    "* For all constants (spot, vol and etc.) recommend to use \"SimpleQuote\" then it's reference"
   ]
  },
  {
   "cell_type": "code",
   "execution_count": 2,
   "metadata": {
    "collapsed": true
   },
   "outputs": [],
   "source": [
    "\n",
    "import numpy as np \n",
    "import pandas as pd \n",
    "import QuantLib as ql\n",
    "import matplotlib\n",
    "import matplotlib.pyplot as plt\n",
    "%matplotlib inline"
   ]
  },
  {
   "cell_type": "markdown",
   "metadata": {},
   "source": [
    "# DateTime"
   ]
  },
  {
   "cell_type": "markdown",
   "metadata": {},
   "source": [
    "### Set the evaluation time\n",
    "It's required for futher actions"
   ]
  },
  {
   "cell_type": "code",
   "execution_count": 5,
   "metadata": {},
   "outputs": [],
   "source": [
    "evaluationDate = ql.Date(15, 1, 2015)\n",
    "ql.Settings.instance().evaluationDate = evaluationDate"
   ]
  },
  {
   "cell_type": "markdown",
   "metadata": {},
   "source": [
    "### DateTime Properties"
   ]
  },
  {
   "cell_type": "code",
   "execution_count": 6,
   "metadata": {},
   "outputs": [
    {
     "name": "stdout",
     "output_type": "stream",
     "text": [
      "March 30th, 2016\n"
     ]
    }
   ],
   "source": [
    "date = ql.Date(30, 3, 2016)\n",
    "print (date)"
   ]
  },
  {
   "cell_type": "code",
   "execution_count": 7,
   "metadata": {},
   "outputs": [
    {
     "name": "stdout",
     "output_type": "stream",
     "text": [
      "Year = 2016, Month = 3, DayOfMonth = 30, Tuesday = False\n"
     ]
    }
   ],
   "source": [
    "print(\"Year = %s, Month = %s, DayOfMonth = %s, Tuesday = %s\" % \n",
    "      (date.year(), date.month(), date.dayOfMonth(), date.weekday() == ql.Tuesday))"
   ]
  },
  {
   "cell_type": "markdown",
   "metadata": {},
   "source": [
    "### DateTime Arithmetic"
   ]
  },
  {
   "cell_type": "code",
   "execution_count": 8,
   "metadata": {},
   "outputs": [
    {
     "name": "stdout",
     "output_type": "stream",
     "text": [
      "March 31st, 2016\n",
      "March 29th, 2016\n",
      "March 31st, 2016\n",
      "April 6th, 2016\n",
      "March 30th, 2017\n",
      "True\n"
     ]
    }
   ],
   "source": [
    "print(date + 1)\n",
    "print(date - 1)\n",
    "print(date + ql.Period(1, ql.Days))\n",
    "print(date + ql.Period(1, ql.Weeks))\n",
    "print(date + ql.Period(1, ql.Years))\n",
    "print(date + 1 > date - 1)"
   ]
  },
  {
   "cell_type": "markdown",
   "metadata": {},
   "source": [
    "### DateTime Schedule (ex. Coupon Payments)"
   ]
  },
  {
   "cell_type": "markdown",
   "metadata": {},
   "source": [
    "Here we have generated a Schedule object that will contain dates between date1 and date2 with the tenor specifying the Period to be every Month. The calendar object is used for determining holidays. The two arguments following the calendar in the Schedule constructor are the BussinessDayConvention. Here we chose the convention to be the day following holidays. That is why we see that holidays are excluded in the list of dates."
   ]
  },
  {
   "cell_type": "code",
   "execution_count": 9,
   "metadata": {},
   "outputs": [
    {
     "data": {
      "text/plain": [
       "[Date(11,1,2016),\n",
       " Date(1,2,2016),\n",
       " Date(1,3,2016),\n",
       " Date(1,4,2016),\n",
       " Date(3,5,2016),\n",
       " Date(1,6,2016),\n",
       " Date(1,7,2016),\n",
       " Date(1,8,2016),\n",
       " Date(1,9,2016),\n",
       " Date(3,10,2016),\n",
       " Date(1,11,2016),\n",
       " Date(1,12,2016),\n",
       " Date(9,1,2017)]"
      ]
     },
     "execution_count": 9,
     "metadata": {},
     "output_type": "execute_result"
    }
   ],
   "source": [
    "date1 = ql.Date(1, 1, 2016)\n",
    "date2 = ql.Date(1, 1, 2017)\n",
    "tenor = ql.Period(ql.Monthly)\n",
    "calendar = ql.Russia()\n",
    "schedule = ql.Schedule(date1, date2, tenor, calendar, ql.Following, ql.Following, ql.DateGeneration.Forward, False)\n",
    "list(schedule)"
   ]
  },
  {
   "cell_type": "markdown",
   "metadata": {},
   "source": [
    "---"
   ]
  },
  {
   "cell_type": "markdown",
   "metadata": {},
   "source": [
    "# Interest Rate"
   ]
  },
  {
   "cell_type": "markdown",
   "metadata": {},
   "source": [
    "The InterestRate class can be used to store the interest rate with the compounding type, day count and the frequency of compounding. Below we show how to create an interest rate of 5.0% compounded annually, using Actual/Actual day count convention. Here you can see more about [day count convention.](https://en.wikipedia.org/wiki/Day_count_convention)"
   ]
  },
  {
   "cell_type": "code",
   "execution_count": 10,
   "metadata": {
    "collapsed": true
   },
   "outputs": [],
   "source": [
    "annualRate = 0.05\n",
    "dayCount = ql.ActualActual()\n",
    "compoundType = ql.Compounded\n",
    "frequency = ql.Annual\n",
    "interestRate = ql.InterestRate(annualRate, dayCount, compoundType, frequency)"
   ]
  },
  {
   "cell_type": "markdown",
   "metadata": {},
   "source": [
    "Lets say if you invest a dollar at the interest rate described by interestRate, the compoundFactor method gives you how much your investment will be worth after t years. Below we show that the value returned by compoundFactor for 2 years agrees with the expected compounding formula."
   ]
  },
  {
   "cell_type": "code",
   "execution_count": 11,
   "metadata": {},
   "outputs": [
    {
     "name": "stdout",
     "output_type": "stream",
     "text": [
      "1.1025\n",
      "1.1025\n"
     ]
    }
   ],
   "source": [
    "print ((1.0 + annualRate)*(1.0 + annualRate)) # cum-rate for 2 years \n",
    "print(interestRate.compoundFactor(2.0)) "
   ]
  },
  {
   "cell_type": "markdown",
   "metadata": {},
   "source": [
    "The discountFactor method returns the reciprocal of the compoundFactor method. The discount factor is useful while calculating the present value of future cashflows."
   ]
  },
  {
   "cell_type": "code",
   "execution_count": 12,
   "metadata": {},
   "outputs": [
    {
     "name": "stdout",
     "output_type": "stream",
     "text": [
      "0.9070294784580498\n",
      "0.9070294784580498\n"
     ]
    }
   ],
   "source": [
    "print(1.0 / interestRate.compoundFactor(2.0))\n",
    "print(interestRate.discountFactor(2.0))"
   ]
  },
  {
   "cell_type": "markdown",
   "metadata": {},
   "source": [
    "Compare interest rates that have different compounding periods and/or payment frequencies."
   ]
  },
  {
   "cell_type": "code",
   "execution_count": 13,
   "metadata": {},
   "outputs": [
    {
     "name": "stdout",
     "output_type": "stream",
     "text": [
      "Rate with annual compounding is: 0.05, Equivalent one year annual continuously compounded rate is: 0.04879016416943204\n",
      "Rate with annual compounding is: 0.05, Equivalent one year semi-annually compounded rate is: 0.04939015319191986\n"
     ]
    }
   ],
   "source": [
    "newCompoundType = ql.Continuous\n",
    "newRate = interestRate.equivalentRate(newCompoundType, frequency, 1)\n",
    "print (\"Rate with annual compounding is: %s, Equivalent one year annual continuously compounded rate is: %s\" %\n",
    "       (interestRate.rate(), newRate.rate()))\n",
    "\n",
    "newFrequency = ql.Semiannual\n",
    "newRate = interestRate.equivalentRate(compoundType, newFrequency, 1)\n",
    "print (\"Rate with annual compounding is: %s, Equivalent one year semi-annually compounded rate is: %s\" %\n",
    "       (interestRate.rate(), newRate.rate()))"
   ]
  },
  {
   "cell_type": "markdown",
   "metadata": {},
   "source": [
    "---"
   ]
  },
  {
   "cell_type": "markdown",
   "metadata": {},
   "source": [
    "# Modeling Fixed Rate Bonds"
   ]
  },
  {
   "cell_type": "markdown",
   "metadata": {},
   "source": [
    "Let's consider a hypothetical bond with a par value of 100, that pays 6% coupon semi-annually issued on January 15th, 2015 and set to mature on January 15th, 2016. The bond will pay a coupon on July 15th, 2015 and January 15th, 2016. The par amount of 100 will also be paid on the January 15th, 2016.\n",
    "\n",
    "To make things simpler, lets assume that we know the spot rates of the treasury as of January 15th, 2015. The annualized spot rates are 0.5% for 6 months and 0.7% for 1 year point. Lets calculate the fair value of this bond."
   ]
  },
  {
   "cell_type": "markdown",
   "metadata": {},
   "source": [
    "$$ P=(\\frac{C}{1+i} + \\frac{C}{(1+i)^2} + \\cdots + \\frac{C}{(1+i)^N}) + \\frac{M}{(1+i)^N} $$    "
   ]
  },
  {
   "cell_type": "code",
   "execution_count": 6,
   "metadata": {},
   "outputs": [
    {
     "name": "stdout",
     "output_type": "stream",
     "text": [
      "105.27653992490681\n"
     ]
    }
   ],
   "source": [
    "P = (3 / pow(1 + 0.005, 0.5)) + (3 / (1 + 0.007) + 100 / (1 + 0.007))\n",
    "print (P)"
   ]
  },
  {
   "cell_type": "markdown",
   "metadata": {},
   "source": [
    "Lets calculate the same thing using QuantLib."
   ]
  },
  {
   "cell_type": "code",
   "execution_count": 7,
   "metadata": {},
   "outputs": [],
   "source": [
    "spotDates = [ql.Date(15, 1, 2015), ql.Date(15, 7, 2015), ql.Date(15, 1, 2016)]\n",
    "spotRates = [0.0, 0.005, 0.007]\n",
    "dayCount = ql.Thirty360()\n",
    "calendar = ql.Russia()\n",
    "interpolation = ql.Linear()\n",
    "compounding = ql.Compounded\n",
    "compoundingFrequency = ql.Annual\n",
    "spotCurve = ql.ZeroCurve(spotDates, spotRates, dayCount, calendar, interpolation, compounding, compoundingFrequency)\n",
    "spotCurveHandle = ql.YieldTermStructureHandle(spotCurve)"
   ]
  },
  {
   "cell_type": "markdown",
   "metadata": {},
   "source": [
    "So far we have created the term structure and the variables are rather self explanatory. Now lets construct the schedule for bond."
   ]
  },
  {
   "cell_type": "code",
   "execution_count": 8,
   "metadata": {},
   "outputs": [
    {
     "data": {
      "text/plain": [
       "[Date(15,1,2015), Date(15,7,2015), Date(15,1,2016)]"
      ]
     },
     "execution_count": 8,
     "metadata": {},
     "output_type": "execute_result"
    }
   ],
   "source": [
    "issueDate = ql.Date(15, 1, 2015)\n",
    "maturityDate = ql.Date(15, 1, 2016)\n",
    "tenor = ql.Period(ql.Semiannual)\n",
    "bussinessConvention = ql.Unadjusted\n",
    "dateGeneration = ql.DateGeneration.Backward\n",
    "monthEnd = False\n",
    "schedule = ql.Schedule(issueDate, maturityDate, tenor, calendar, \n",
    "                    bussinessConvention, bussinessConvention, dateGeneration, monthEnd)\n",
    "list(schedule)"
   ]
  },
  {
   "cell_type": "markdown",
   "metadata": {},
   "source": [
    "Now lets build the coupon"
   ]
  },
  {
   "cell_type": "code",
   "execution_count": 9,
   "metadata": {},
   "outputs": [],
   "source": [
    "couponRate = 0.06\n",
    "coupons = [couponRate]"
   ]
  },
  {
   "cell_type": "markdown",
   "metadata": {},
   "source": [
    "Now lets construct the FixedRateBond"
   ]
  },
  {
   "cell_type": "code",
   "execution_count": 126,
   "metadata": {
    "collapsed": true
   },
   "outputs": [],
   "source": [
    "settlementDays = 0\n",
    "faceValue = 100\n",
    "fixedRateBond = ql.FixedRateBond(settlementDays, faceValue, schedule, coupons, dayCount)"
   ]
  },
  {
   "cell_type": "markdown",
   "metadata": {},
   "source": [
    "Create a bond engine with the term structure as input and set the bond to use this bond engine"
   ]
  },
  {
   "cell_type": "code",
   "execution_count": 28,
   "metadata": {},
   "outputs": [],
   "source": [
    "bondEngine = ql.DiscountingBondEngine(spotCurveHandle)\n",
    "fixedRateBond.setPricingEngine(bondEngine)"
   ]
  },
  {
   "cell_type": "markdown",
   "metadata": {},
   "source": [
    "Finally the price"
   ]
  },
  {
   "cell_type": "code",
   "execution_count": 29,
   "metadata": {},
   "outputs": [
    {
     "data": {
      "text/plain": [
       "105.27653992490683"
      ]
     },
     "execution_count": 29,
     "metadata": {},
     "output_type": "execute_result"
    }
   ],
   "source": [
    "fixedRateBond.NPV()"
   ]
  },
  {
   "cell_type": "code",
   "execution_count": 31,
   "metadata": {},
   "outputs": [
    {
     "name": "stdout",
     "output_type": "stream",
     "text": [
      "Manually Calc: 105.27653992490681 \n",
      "Quantlib Calc: 105.27653992490683\n"
     ]
    }
   ],
   "source": [
    "print(\"Manually Calc: %s \\nQuantlib Calc: %s\" % (P, fixedRateBond.NPV()))"
   ]
  },
  {
   "cell_type": "markdown",
   "metadata": {
    "collapsed": true
   },
   "source": [
    "Cash Flows"
   ]
  },
  {
   "cell_type": "code",
   "execution_count": 33,
   "metadata": {
    "scrolled": true
   },
   "outputs": [
    {
     "name": "stdout",
     "output_type": "stream",
     "text": [
      " 1  July 15th, 2015             3.00\n",
      " 2  January 15th, 2016          3.00\n",
      " 3  January 15th, 2016        100.00\n"
     ]
    }
   ],
   "source": [
    "for i, cf in enumerate(fixedRateBond.cashflows()):\n",
    "    print (\"%2d  %-20s  %10.2f\" % (i+1, cf.date(), cf.amount()))"
   ]
  },
  {
   "cell_type": "markdown",
   "metadata": {
    "collapsed": true
   },
   "source": [
    "---"
   ]
  },
  {
   "cell_type": "markdown",
   "metadata": {
    "collapsed": true
   },
   "source": [
    "# Interest Rate Term Structure"
   ]
  },
  {
   "cell_type": "markdown",
   "metadata": {
    "collapsed": true
   },
   "source": [
    "Term structure is pivotal to pricing securities. One would need a YieldTermStructure object created in QuantLib to use with pricing engines. In an earlier example on modeling bonds using QuantLib we discussed how to use spot rates directly with bond pricing engine. Here we will show how to bootstrap yield curve using QuantLib."
   ]
  },
  {
   "cell_type": "markdown",
   "metadata": {
    "collapsed": true
   },
   "source": [
    "The deposit rates and fixed rate bond rates are provided below."
   ]
  },
  {
   "cell_type": "code",
   "execution_count": 48,
   "metadata": {
    "collapsed": true
   },
   "outputs": [],
   "source": [
    "depo_maturities = [ql.Period(6, ql.Months), ql.Period(12, ql.Months)]\n",
    "depo_rates = [5.25, 5.5]\n",
    "\n",
    "bond_maturities = [ql.Period(6*i, ql.Months) for i in range(3,21)]\n",
    "bond_rates = [5.75, 6.0, 6.25, 6.5, 6.75, 6.80, 7.00, 7.1, 7.15, 7.2, 7.3, 7.35, 7.4, 7.5, 7.6, 7.6, 7.7, 7.8]"
   ]
  },
  {
   "cell_type": "markdown",
   "metadata": {},
   "source": [
    "Lets define some of the constants required for the rest of the objects needed below."
   ]
  },
  {
   "cell_type": "code",
   "execution_count": 49,
   "metadata": {},
   "outputs": [],
   "source": [
    "calendar = ql.Russia()\n",
    "bussiness_convention = ql.Unadjusted\n",
    "day_count = ql.Thirty360()\n",
    "end_of_month = True\n",
    "settlement_days = 0\n",
    "face_amount = 100\n",
    "coupon_frequency = ql.Period(ql.Semiannual)\n",
    "settlement_days = 0"
   ]
  },
  {
   "cell_type": "markdown",
   "metadata": {},
   "source": [
    "The basic idea of bootstrapping using QuantLib is to use the deposit rates and bond rates to create individual helpers. Then use the combination of the two helpers to construct the yield curve."
   ]
  },
  {
   "cell_type": "code",
   "execution_count": 50,
   "metadata": {
    "collapsed": true
   },
   "outputs": [],
   "source": [
    "depo_helpers = [ql.DepositRateHelper(ql.QuoteHandle(ql.SimpleQuote(r/100.0)),\n",
    "                                     m,\n",
    "                                     settlement_days,\n",
    "                                     calendar,\n",
    "                                     bussiness_convention,\n",
    "                                     end_of_month,\n",
    "                                     day_count )\n",
    "                for r, m in zip(depo_rates, depo_maturities)]"
   ]
  },
  {
   "cell_type": "markdown",
   "metadata": {},
   "source": [
    "The rest of the points are coupon bonds. We assume that the YTM given for the bonds are all par rates. So we have bonds with coupon rate same as the YTM."
   ]
  },
  {
   "cell_type": "code",
   "execution_count": 51,
   "metadata": {},
   "outputs": [],
   "source": [
    "bond_helpers = []\n",
    "for r, m in zip(bond_rates, bond_maturities):\n",
    "    termination_date = evaluationDate + m\n",
    "    schedule = ql.Schedule(evaluationDate,\n",
    "                   termination_date,\n",
    "                   coupon_frequency,\n",
    "                   calendar,\n",
    "                   bussiness_convention,\n",
    "                   bussiness_convention,\n",
    "                   ql.DateGeneration.Backward,\n",
    "                   end_of_month)\n",
    "\n",
    "    helper = ql.FixedRateBondHelper(ql.QuoteHandle(ql.SimpleQuote(face_amount)),\n",
    "                                        settlement_days,\n",
    "                                        face_amount,\n",
    "                                        schedule,\n",
    "                                        [r/100.0],\n",
    "                                        day_count,\n",
    "                                        bussiness_convention)\n",
    "    bond_helpers.append(helper)"
   ]
  },
  {
   "cell_type": "markdown",
   "metadata": {},
   "source": [
    "The yield curve is constructed by putting the two helpers together."
   ]
  },
  {
   "cell_type": "code",
   "execution_count": 53,
   "metadata": {},
   "outputs": [],
   "source": [
    "rate_helpers = depo_helpers + bond_helpers\n",
    "yieldcurve = ql.PiecewiseLogCubicDiscount(evaluationDate, rate_helpers, day_count)"
   ]
  },
  {
   "cell_type": "markdown",
   "metadata": {},
   "source": [
    "The spot rates is obtined from yieldcurve object using the forwardRate method."
   ]
  },
  {
   "cell_type": "code",
   "execution_count": 45,
   "metadata": {},
   "outputs": [
    {
     "data": {
      "text/plain": [
       "[(Date(15,1,2015), 0.0),\n",
       " (Date(15,7,2015), 5.249999999999977),\n",
       " (Date(15,1,2016), 5.426385841741377),\n",
       " (Date(15,7,2016), 5.761159915065495),\n",
       " (Date(15,1,2017), 6.02028023895036),\n",
       " (Date(15,7,2017), 6.283174634314381),\n",
       " (Date(15,1,2018), 6.550263777152754),\n",
       " (Date(15,7,2018), 6.82205349935372),\n",
       " (Date(15,1,2019), 6.870031609633287),\n",
       " (Date(15,7,2019), 7.095268816200129),\n",
       " (Date(15,1,2020), 7.205095653056404),\n",
       " (Date(15,7,2020), 7.256506795000028),\n",
       " (Date(15,1,2021), 7.309874764399638),\n",
       " (Date(15,7,2021), 7.428853261444912),\n",
       " (Date(15,1,2022), 7.484915052187002),\n",
       " (Date(15,7,2022), 7.542695889109563),\n",
       " (Date(15,1,2023), 7.6708686984454655),\n",
       " (Date(15,7,2023), 7.802044924051543),\n",
       " (Date(15,1,2024), 7.7908150490884065),\n",
       " (Date(15,7,2024), 7.929397594780907),\n",
       " (Date(15,1,2025), 8.071649125651659)]"
      ]
     },
     "execution_count": 45,
     "metadata": {},
     "output_type": "execute_result"
    }
   ],
   "source": [
    "spots = []\n",
    "for d in yieldcurve.dates():    \n",
    "    compounding = ql.Compounded\n",
    "    freq = ql.Semiannual\n",
    "    forward_rate = yieldcurve.forwardRate(evaluationDate, d, day_count, compounding, freq)\n",
    "    eq_rate = forward_rate.equivalentRate(day_count,\n",
    "                                       compounding,\n",
    "                                       freq,\n",
    "                                       evaluationDate,\n",
    "                                       d).rate()\n",
    "    spots.append(100*eq_rate)\n",
    "        \n",
    "yield_by_date = list(zip(yieldcurve.dates(), spots))    \n",
    "yield_by_date"
   ]
  },
  {
   "cell_type": "markdown",
   "metadata": {},
   "source": [
    "The spot rates is obtined from yieldcurve object using the zeroRate method."
   ]
  },
  {
   "cell_type": "code",
   "execution_count": 47,
   "metadata": {},
   "outputs": [
    {
     "data": {
      "text/plain": [
       "[(Date(15,1,2015), 0.0),\n",
       " (Date(15,7,2015), 5.249999999999977),\n",
       " (Date(15,1,2016), 5.426385841741377),\n",
       " (Date(15,7,2016), 5.761159915065495),\n",
       " (Date(15,1,2017), 6.02028023895036),\n",
       " (Date(15,7,2017), 6.283174634314381),\n",
       " (Date(15,1,2018), 6.550263777152754),\n",
       " (Date(15,7,2018), 6.82205349935372),\n",
       " (Date(15,1,2019), 6.870031609633287),\n",
       " (Date(15,7,2019), 7.095268816200129),\n",
       " (Date(15,1,2020), 7.205095653056404),\n",
       " (Date(15,7,2020), 7.256506795000028),\n",
       " (Date(15,1,2021), 7.309874764399638),\n",
       " (Date(15,7,2021), 7.428853261444912),\n",
       " (Date(15,1,2022), 7.484915052187002),\n",
       " (Date(15,7,2022), 7.542695889109563),\n",
       " (Date(15,1,2023), 7.6708686984454655),\n",
       " (Date(15,7,2023), 7.802044924051543),\n",
       " (Date(15,1,2024), 7.7908150490884065),\n",
       " (Date(15,7,2024), 7.929397594780907),\n",
       " (Date(15,1,2025), 8.071649125651659)]"
      ]
     },
     "execution_count": 47,
     "metadata": {},
     "output_type": "execute_result"
    }
   ],
   "source": [
    "spots = []\n",
    "for d in yieldcurve.dates():\n",
    "    yrs = day_count.yearFraction(evaluationDate, d)\n",
    "    compounding = ql.Compounded\n",
    "    freq = ql.Semiannual\n",
    "    zero_rate = yieldcurve.zeroRate(yrs, compounding, freq)\n",
    "    eq_rate = zero_rate.equivalentRate(day_count,\n",
    "                                       compounding,\n",
    "                                       freq,\n",
    "                                       evaluationDate,\n",
    "                                       d).rate()\n",
    "    spots.append(100*eq_rate)\n",
    "    \n",
    "yield_by_date = list(zip(yieldcurve.dates(),spots))    \n",
    "yield_by_date"
   ]
  },
  {
   "cell_type": "markdown",
   "metadata": {},
   "source": [
    "---"
   ]
  },
  {
   "cell_type": "markdown",
   "metadata": {},
   "source": [
    "# Hull White Term Structure Simulations"
   ]
  },
  {
   "cell_type": "markdown",
   "metadata": {},
   "source": [
    "The Hull-White Short Rate Model is defined as:\n",
    "\n",
    "$$ dr_t = (\\theta(t) - a r_t)dt + \\sigma dW_t $$\n",
    "\n",
    "where $a$ and $ \\sigma $ are constants, and $\\theta(t)$ is\n",
    "chosen in order to fit the input term structure of interest rates.\n",
    "Here we use QuantLib to show how to simulate the Hull-White model\n",
    "and investigate some of the properties."
   ]
  },
  {
   "cell_type": "markdown",
   "metadata": {},
   "source": [
    "The constants that we use for this example is all defined as shown below. Variables $sigma$ and $a$ are the constants that define the Hull-White model. In the simulation, we discretize the time span of length 30 years into 360 intervals (one per month) as defined by the timestep variable. For simplicity we will use a constant forward rate term structure as an input. It is straight forward to swap with another term structure here."
   ]
  },
  {
   "cell_type": "code",
   "execution_count": 61,
   "metadata": {},
   "outputs": [],
   "source": [
    "sigma = 0.1\n",
    "a = 0.1\n",
    "timestep = 360\n",
    "length = 30 # in years\n",
    "forward_rate = 0.05\n",
    "day_count = ql.Thirty360()"
   ]
  },
  {
   "cell_type": "code",
   "execution_count": 62,
   "metadata": {
    "collapsed": true
   },
   "outputs": [],
   "source": [
    "spot_curve = ql.FlatForward(evaluationDate, ql.QuoteHandle(ql.SimpleQuote(forward_rate)), day_count)\n",
    "spot_curve_handle = ql.YieldTermStructureHandle(spot_curve)"
   ]
  },
  {
   "cell_type": "code",
   "execution_count": 63,
   "metadata": {},
   "outputs": [],
   "source": [
    "hw_process = ql.HullWhiteProcess(spot_curve_handle, a, sigma)\n",
    "rng = ql.GaussianRandomSequenceGenerator(ql.UniformRandomSequenceGenerator(timestep, ql.UniformRandomGenerator()))\n",
    "seq = ql.GaussianPathGenerator(hw_process, length, timestep, rng, False)"
   ]
  },
  {
   "cell_type": "markdown",
   "metadata": {
    "collapsed": true
   },
   "source": [
    "The Hull-White process is constructed by passing the term-structure, $a$ and $sigma$. To create the path generator, one has to provide a random sequence generator along with other simulation inputs such as timestep and length.\n",
    "A function to generate paths can be written as shown below:"
   ]
  },
  {
   "cell_type": "code",
   "execution_count": 64,
   "metadata": {
    "collapsed": true
   },
   "outputs": [],
   "source": [
    "def generate_paths(num_paths, timestep):\n",
    "    arr = np.zeros((num_paths, timestep+1))\n",
    "    for i in range(num_paths):\n",
    "        sample_path = seq.next()\n",
    "        path = sample_path.value()\n",
    "        time = [path.time(j) for j in range(len(path))]\n",
    "        value = [path[j] for j in range(len(path))]\n",
    "        arr[i, :] = np.array(value)\n",
    "    return np.array(time), arr"
   ]
  },
  {
   "cell_type": "markdown",
   "metadata": {},
   "source": [
    "The simulation of the short rates look as shown below:"
   ]
  },
  {
   "cell_type": "code",
   "execution_count": 65,
   "metadata": {},
   "outputs": [
    {
     "data": {
      "image/png": "[encoded data removed]",
      "text/plain": [
       "<matplotlib.figure.Figure at 0xc6a6208>"
      ]
     },
     "metadata": {},
     "output_type": "display_data"
    }
   ],
   "source": [
    "num_paths = 100\n",
    "time, paths = generate_paths(num_paths, timestep)\n",
    "for i in range(num_paths):\n",
    "    plt.plot(time, paths[i, :], lw=0.8, alpha=0.6)\n",
    "plt.title(\"Hull-White Short Rate Simulation\")\n",
    "plt.show()"
   ]
  },
  {
   "cell_type": "markdown",
   "metadata": {},
   "source": [
    "The short rate $r(t)$ is given a distribution with the properties:\n",
    "\n",
    "$$ E\\{r(t) | F_s\\} = r(s)e^{-a(t-s)}  + \\alpha(t) - \\alpha(s)e^{-a(t-s)} $$\n",
    "   $$ Var\\{ r(t) | F_s \\} = \\frac{\\sigma^2}{2a} [1 - e^{-2a(t-s)}] $$\n",
    "   where \n",
    "   $$ \\alpha(t) = f^M(0, t) + \\frac{\\sigma^2} {2a^2}(1-e^{-at})^2$$\n",
    "   \n",
    "as shown in Brigo & Mercurio's book on Interest Rate Models."
   ]
  },
  {
   "cell_type": "code",
   "execution_count": 68,
   "metadata": {
    "collapsed": true
   },
   "outputs": [],
   "source": [
    "num_paths = 1000\n",
    "time, paths = generate_paths(num_paths, timestep)"
   ]
  },
  {
   "cell_type": "markdown",
   "metadata": {},
   "source": [
    "The mean and variance compared between the simulation (red dotted line) and theory (blue line)."
   ]
  },
  {
   "cell_type": "code",
   "execution_count": 69,
   "metadata": {},
   "outputs": [
    {
     "data": {
      "text/plain": [
       "<matplotlib.text.Text at 0x96bea20>"
      ]
     },
     "execution_count": 69,
     "metadata": {},
     "output_type": "execute_result"
    },
    {
     "data": {
      "image/png": "[encoded data removed]",
      "text/plain": [
       "<matplotlib.figure.Figure at 0x979c080>"
      ]
     },
     "metadata": {},
     "output_type": "display_data"
    }
   ],
   "source": [
    "vol = [np.var(paths[:, i]) for i in range(timestep+1)]\n",
    "plt.plot(time, vol, \"r-.\", lw=3, alpha=0.6)\n",
    "plt.plot(time,sigma*sigma/(2*a)*(1.0-np.exp(-2.0*a*np.array(time))), \"b-\", lw=2, alpha=0.5)\n",
    "plt.title(\"Variance of Short Rates\")"
   ]
  },
  {
   "cell_type": "code",
   "execution_count": 70,
   "metadata": {},
   "outputs": [
    {
     "data": {
      "text/plain": [
       "<matplotlib.text.Text at 0xb7d1ef0>"
      ]
     },
     "execution_count": 70,
     "metadata": {},
     "output_type": "execute_result"
    },
    {
     "data": {
      "image/png": "[encoded data removed]",
      "text/plain": [
       "<matplotlib.figure.Figure at 0xa5933c8>"
      ]
     },
     "metadata": {},
     "output_type": "display_data"
    }
   ],
   "source": [
    "def alpha(forward, sigma, a, t):\n",
    "    return forward + 0.5* np.power(sigma/a*(1.0 - np.exp(-a*t)), 2)\n",
    "\n",
    "avg = [np.mean(paths[:, i]) for i in range(timestep+1)]\n",
    "plt.plot(time, avg, \"r-.\", lw=3, alpha=0.6)\n",
    "plt.plot(time,alpha(forward_rate, sigma, a, time), \"b-\", lw=2, alpha=0.6)\n",
    "plt.title(\"Mean of Short Rates\")"
   ]
  },
  {
   "cell_type": "markdown",
   "metadata": {},
   "source": [
    "---"
   ]
  },
  {
   "cell_type": "markdown",
   "metadata": {},
   "source": [
    "# European Option Pricing using Black-Scholes-Merton model"
   ]
  },
  {
   "cell_type": "markdown",
   "metadata": {},
   "source": [
    "Let us consider a European call option for AAPL with a strike price of \\$130 maturing on 15th Jan, 2016. Let the spot price be \\$127.62. The volatility of the underlying stock is know to be 20%, and has a dividend yield of 1.63%. Lets value this option as of evaluationDate."
   ]
  },
  {
   "cell_type": "code",
   "execution_count": 71,
   "metadata": {
    "collapsed": true
   },
   "outputs": [],
   "source": [
    "maturity_date = ql.Date(15, 1, 2016)\n",
    "spot_price = 127.62\n",
    "strike_price = 130\n",
    "volatility = 0.20 # the historical vols for a year\n",
    "dividend_rate =  0.0163\n",
    "option_type = ql.Option.Call\n",
    "\n",
    "risk_free_rate = 0.001\n",
    "day_count = ql.Actual365Fixed()\n",
    "calendar = ql.TARGET() # Trans-European Automated Real-time Gross settlement Express Transfer"
   ]
  },
  {
   "cell_type": "markdown",
   "metadata": {},
   "source": [
    "Construct the European option"
   ]
  },
  {
   "cell_type": "code",
   "execution_count": 72,
   "metadata": {
    "collapsed": true
   },
   "outputs": [],
   "source": [
    "payoff = ql.PlainVanillaPayoff(option_type, strike_price)\n",
    "exercise = ql.EuropeanExercise(maturity_date)\n",
    "european_option = ql.VanillaOption(payoff, exercise)"
   ]
  },
  {
   "cell_type": "markdown",
   "metadata": {},
   "source": [
    "Construct The Black-Scholes-Merton process"
   ]
  },
  {
   "cell_type": "code",
   "execution_count": 73,
   "metadata": {},
   "outputs": [],
   "source": [
    "spot_handle = ql.QuoteHandle(ql.SimpleQuote(spot_price))\n",
    "flat_ts = ql.YieldTermStructureHandle(ql.FlatForward(evaluationDate, risk_free_rate, day_count))\n",
    "dividend_yield = ql.YieldTermStructureHandle(ql.FlatForward(evaluationDate, dividend_rate, day_count))\n",
    "flat_vol_ts = ql.BlackVolTermStructureHandle(ql.BlackConstantVol(evaluationDate, calendar, volatility, day_count))\n",
    "bsm_process = ql.BlackScholesMertonProcess(spot_handle, dividend_yield, flat_ts, flat_vol_ts)"
   ]
  },
  {
   "cell_type": "markdown",
   "metadata": {},
   "source": [
    "Lets compute the theoretical price using the AnalyticEuropeanEngine"
   ]
  },
  {
   "cell_type": "code",
   "execution_count": 74,
   "metadata": {},
   "outputs": [
    {
     "name": "stdout",
     "output_type": "stream",
     "text": [
      "The theoretical price is: 8.160628781301915\n"
     ]
    }
   ],
   "source": [
    "engine = ql.AnalyticEuropeanEngine(bsm_process)\n",
    "european_option.setPricingEngine(engine)\n",
    "bs_price = european_option.NPV()\n",
    "print (\"The theoretical price is:\", bs_price)"
   ]
  },
  {
   "cell_type": "markdown",
   "metadata": {},
   "source": [
    "---"
   ]
  },
  {
   "cell_type": "markdown",
   "metadata": {},
   "source": [
    "# European Option Pricing using Binominal-tree approach"
   ]
  },
  {
   "cell_type": "code",
   "execution_count": 75,
   "metadata": {},
   "outputs": [],
   "source": [
    "def binomial_price(bsm_process, steps):\n",
    "    binomial_engine = ql.BinomialVanillaEngine(bsm_process, \"crr\", steps)\n",
    "    european_option.setPricingEngine(binomial_engine)\n",
    "    return european_option.NPV()\n",
    "\n",
    "steps = range(2, 100, 1)\n",
    "prices = [binomial_price(bsm_process, step) for step in steps]"
   ]
  },
  {
   "cell_type": "markdown",
   "metadata": {},
   "source": [
    "In the plot below, we show the convergence of binomial-tree approach by comparing its price with the BSM price."
   ]
  },
  {
   "cell_type": "code",
   "execution_count": 76,
   "metadata": {},
   "outputs": [
    {
     "data": {
      "text/plain": [
       "<matplotlib.legend.Legend at 0xc612c88>"
      ]
     },
     "execution_count": 76,
     "metadata": {},
     "output_type": "execute_result"
    },
    {
     "data": {
      "image/png": "[encoded data removed]",
      "text/plain": [
       "<matplotlib.figure.Figure at 0xc4e3be0>"
      ]
     },
     "metadata": {},
     "output_type": "display_data"
    }
   ],
   "source": [
    "plt.plot(steps, prices, label=\"Binomial Tree Price\", lw=2, alpha=0.6)\n",
    "plt.plot([0,100],[bs_price, bs_price], \"r--\", label=\"BSM Price\", lw=2, alpha=0.6)\n",
    "plt.xlabel(\"Steps\")\n",
    "plt.ylabel(\"Price\")\n",
    "plt.title(\"Binomial Tree Price For Varying Steps\")\n",
    "plt.legend()"
   ]
  },
  {
   "cell_type": "markdown",
   "metadata": {},
   "source": [
    "---"
   ]
  },
  {
   "cell_type": "markdown",
   "metadata": {},
   "source": [
    "# European Option Pricing using Black model"
   ]
  },
  {
   "cell_type": "markdown",
   "metadata": {},
   "source": [
    "Let us consider a European call option for AAPL with a strike price of \\$130 maturing on 15th Jan, 2016. Let the spot price be \\$127.62. The volatility of the underlying stock is know to be 20%. Lets value this option as of evaluationDate."
   ]
  },
  {
   "cell_type": "code",
   "execution_count": 77,
   "metadata": {},
   "outputs": [],
   "source": [
    "maturity_date = ql.Date(15, 1, 2016)\n",
    "spot = 127.62\n",
    "strike = 130\n",
    "volatility = 0.20 # the historical vols for a year\n",
    "option_type = ql.Option.Call\n",
    "\n",
    "risk_free_rate = 0.001\n",
    "day_count = ql.Actual365Fixed()\n",
    "calendar = ql.TARGET() # Trans-European Automated Real-time Gross settlement Express Transfer"
   ]
  },
  {
   "cell_type": "markdown",
   "metadata": {},
   "source": [
    "Construct the European option"
   ]
  },
  {
   "cell_type": "code",
   "execution_count": 78,
   "metadata": {
    "collapsed": true
   },
   "outputs": [],
   "source": [
    "payoff = ql.PlainVanillaPayoff(option_type, strike)\n",
    "exercise = ql.EuropeanExercise(maturity_date)\n",
    "option = ql.VanillaOption(payoff, exercise)"
   ]
  },
  {
   "cell_type": "markdown",
   "metadata": {},
   "source": [
    "Construct The Black process"
   ]
  },
  {
   "cell_type": "code",
   "execution_count": 79,
   "metadata": {},
   "outputs": [],
   "source": [
    "spot_handle = ql.QuoteHandle(ql.SimpleQuote(spot))\n",
    "risk_free_ts = ql.YieldTermStructureHandle(ql.FlatForward(evaluationDate, risk_free_rate, day_count))\n",
    "volatitlity = ql.BlackConstantVol(evaluationDate, calendar, volatility, day_count)\n",
    "b_process = ql.BlackProcess(spot_handle, risk_free_ts, ql.BlackVolTermStructureHandle(volatitlity))"
   ]
  },
  {
   "cell_type": "markdown",
   "metadata": {},
   "source": [
    "Lets compute the theoretical price using the AnalyticEuropeanEngine"
   ]
  },
  {
   "cell_type": "code",
   "execution_count": 80,
   "metadata": {
    "collapsed": true
   },
   "outputs": [],
   "source": [
    "engine = ql.AnalyticEuropeanEngine(b_process)"
   ]
  },
  {
   "cell_type": "code",
   "execution_count": 81,
   "metadata": {
    "collapsed": true
   },
   "outputs": [],
   "source": [
    "option.setPricingEngine(engine)"
   ]
  },
  {
   "cell_type": "code",
   "execution_count": 82,
   "metadata": {},
   "outputs": [
    {
     "name": "stdout",
     "output_type": "stream",
     "text": [
      "9.104947673341693\n",
      "0.502534428176759\n",
      "0.015614009858092526\n",
      "50.860652259803246\n",
      "55.028496050576244\n",
      "-5.076960278306983\n"
     ]
    }
   ],
   "source": [
    "print (option.NPV())\n",
    "print (option.delta())\n",
    "print (option.gamma())\n",
    "print (option.vega())\n",
    "print (option.rho())\n",
    "print (option.theta())"
   ]
  },
  {
   "cell_type": "markdown",
   "metadata": {},
   "source": [
    "---"
   ]
  },
  {
   "cell_type": "markdown",
   "metadata": {},
   "source": [
    "# European Option Pricing using Garman-Kohlhagen model"
   ]
  },
  {
   "cell_type": "markdown",
   "metadata": {},
   "source": [
    "Let us consider a European call option for AAPL with a strike price of \\$130 maturing on 15th Jan, 2016. Let the spot price be \\$127.62. The volatility of the underlying stock is know to be 20%. Lets value this option as of evaluationDate."
   ]
  },
  {
   "cell_type": "code",
   "execution_count": 83,
   "metadata": {
    "collapsed": true
   },
   "outputs": [],
   "source": [
    "maturity_date = ql.Date(15, 1, 2016)\n",
    "spot = 127.62\n",
    "strike = 130\n",
    "volatility = 0.20 # the historical vols for a year\n",
    "option_type = ql.Option.Call\n",
    "\n",
    "risk_free_rate_foreign = 0.011\n",
    "risk_free_rate_domestic = 0.001\n",
    "day_count = ql.Actual365Fixed()\n",
    "calendar = ql.TARGET() # Trans-European Automated Real-time Gross settlement Express Transfer"
   ]
  },
  {
   "cell_type": "markdown",
   "metadata": {},
   "source": [
    "Construct the European option"
   ]
  },
  {
   "cell_type": "code",
   "execution_count": 84,
   "metadata": {
    "collapsed": true
   },
   "outputs": [],
   "source": [
    "payoff = ql.PlainVanillaPayoff(option_type, strike)\n",
    "exercise = ql.EuropeanExercise(maturity_date)\n",
    "option = ql.VanillaOption(payoff, exercise)"
   ]
  },
  {
   "cell_type": "markdown",
   "metadata": {},
   "source": [
    "Construct the Garman-Kohlhagen process"
   ]
  },
  {
   "cell_type": "code",
   "execution_count": 85,
   "metadata": {},
   "outputs": [],
   "source": [
    "spot_handle = ql.QuoteHandle(ql.SimpleQuote(spot))\n",
    "\n",
    "foreign_risk_free_ts = ql.YieldTermStructureHandle(ql.FlatForward(evaluationDate, risk_free_rate_foreign, day_count))\n",
    "\n",
    "domestic_risk_free_ts = ql.YieldTermStructureHandle(ql.FlatForward(evaluationDate, risk_free_rate_domestic, day_count))\n",
    "\n",
    "volatitlity = ql.BlackConstantVol(evaluationDate, calendar, volatility, day_count)\n",
    "\n",
    "gk_process = ql.GarmanKohlagenProcess(spot_handle, foreign_risk_free_ts, domestic_risk_free_ts, ql.BlackVolTermStructureHandle(volatitlity))"
   ]
  },
  {
   "cell_type": "markdown",
   "metadata": {},
   "source": [
    "Lets compute the theoretical price using the AnalyticEuropeanEngine"
   ]
  },
  {
   "cell_type": "code",
   "execution_count": 86,
   "metadata": {
    "collapsed": true
   },
   "outputs": [],
   "source": [
    "engine = ql.AnalyticEuropeanEngine(gk_process)"
   ]
  },
  {
   "cell_type": "code",
   "execution_count": 87,
   "metadata": {
    "collapsed": true
   },
   "outputs": [],
   "source": [
    "option.setPricingEngine(engine)"
   ]
  },
  {
   "cell_type": "code",
   "execution_count": 88,
   "metadata": {},
   "outputs": [
    {
     "name": "stdout",
     "output_type": "stream",
     "text": [
      "8.479438932056095\n",
      "0.47781026467740667\n",
      "0.015445214913819111\n",
      "50.31082418604592\n",
      "52.49870704607456\n",
      "-4.412821519891246\n"
     ]
    }
   ],
   "source": [
    "print (option.NPV())\n",
    "print (option.delta())\n",
    "print (option.gamma())\n",
    "print (option.vega())\n",
    "print (option.rho())\n",
    "print (option.theta())"
   ]
  },
  {
   "cell_type": "markdown",
   "metadata": {
    "collapsed": true
   },
   "source": [
    "---"
   ]
  },
  {
   "cell_type": "markdown",
   "metadata": {},
   "source": [
    "# European Option Pricing using Heston model"
   ]
  },
  {
   "cell_type": "markdown",
   "metadata": {},
   "source": [
    "Heston model can be used to value options by modeling the underlying asset such as the stock of a company. The one major feature of the Heston model is that it inocrporates a stochastic volatility term.\n",
    "\n",
    "\\begin{eqnarray}\n",
    "dS_t &=& \\mu S_tdt + \\sqrt{V_t} S_t dW_t^1 \\\\\n",
    "dV_t &=& \\kappa(\\theta-V_t) + \\sigma \\sqrt{V_t} dW_t^2\n",
    "\\end{eqnarray}\n",
    "\n",
    "* $S_t$  is the asset's value at time tt\n",
    "* $\\mu$ is the expected growth rate of the log normal stock value\n",
    "* $V_t$ is the variance of the asset $S_t$\n",
    "* $W_t^1$ is the stochastic process governing the $S_t$ process\n",
    "* $\\theta$ is the value of mean reversion for the variance $V_t$\n",
    "* $\\kappa$ is the strengh of mean reversion\n",
    "* $\\sigma$ is the volatility of volatility\n",
    "* $W_t^2$ is the stochastic process governing the $V_t$ process\n",
    "* The correlation between $W_t^1$ and $W_t^2$ is $ρ$\n",
    "\n",
    "In contrast, the Black-Scholes-Merton process assumes that the volatility is constant."
   ]
  },
  {
   "cell_type": "markdown",
   "metadata": {},
   "source": [
    "Let us consider a European call option for AAPL with a strike price of \\$130 maturing on 15th Jan, 2016. Let the spot price be \\$127.62. The volatility of the underlying stock is know to be 20%, and has a dividend yield of 1.63%. We assume a short term risk free rate of 0.1%. Lets value this option as of 8th May, 2015."
   ]
  },
  {
   "cell_type": "code",
   "execution_count": 93,
   "metadata": {
    "collapsed": true
   },
   "outputs": [],
   "source": [
    "maturity_date = ql.Date(15, 1, 2016)\n",
    "spot = ql.SimpleQuote(127.62)\n",
    "strike = 130\n",
    "volatility = 0.20 # the historical vols for a year\n",
    "dividend_rate = 0.0163\n",
    "option_type = ql.Option.Call\n",
    "\n",
    "risk_free_rate = 0.001\n",
    "day_count = ql.Actual365Fixed()\n",
    "calendar = ql.TARGET() # Trans-European Automated Real-time Gross settlement Express Transfer"
   ]
  },
  {
   "cell_type": "markdown",
   "metadata": {},
   "source": [
    "Construct the European option"
   ]
  },
  {
   "cell_type": "code",
   "execution_count": 94,
   "metadata": {
    "collapsed": true
   },
   "outputs": [],
   "source": [
    "payoff = ql.PlainVanillaPayoff(option_type, strike)\n",
    "exercise = ql.EuropeanExercise(maturity_date)\n",
    "option = ql.VanillaOption(payoff, exercise)"
   ]
  },
  {
   "cell_type": "markdown",
   "metadata": {},
   "source": [
    "In order to price the option using the Heston model, we first create the Heston process. In order to create the Heston process, we use the parameter values: \n",
    "* the spot variance v0 = volatility*volatility = 0.04\n",
    "* mean reversion strength kappa = 0.1\n",
    "* the mean reversion variance theta=v0\n",
    "* volatility of volatility sigma = 0.1 \n",
    "* the correlation between the asset price and its variance is rho = -0.75."
   ]
  },
  {
   "cell_type": "code",
   "execution_count": 95,
   "metadata": {
    "collapsed": true
   },
   "outputs": [],
   "source": [
    "v0 = 0.04\n",
    "kappa = 0.1\n",
    "theta = v0\n",
    "sigma = 0.1\n",
    "rho = -0.75"
   ]
  },
  {
   "cell_type": "code",
   "execution_count": 96,
   "metadata": {},
   "outputs": [],
   "source": [
    "spot_handle = ql.QuoteHandle(spot)\n",
    "risk_free_ts = ql.YieldTermStructureHandle(ql.FlatForward(evaluationDate, risk_free_rate, day_count))\n",
    "dividend_ts = ql.YieldTermStructureHandle(ql.FlatForward(evaluationDate, dividend_rate, day_count)) "
   ]
  },
  {
   "cell_type": "markdown",
   "metadata": {},
   "source": [
    "Construct the Heston model"
   ]
  },
  {
   "cell_type": "code",
   "execution_count": 97,
   "metadata": {},
   "outputs": [],
   "source": [
    "heston_process = ql.HestonProcess(risk_free_ts, dividend_ts, spot_handle, v0, kappa, theta, sigma, rho)\n",
    "heston_model = ql.HestonModel(heston_process)"
   ]
  },
  {
   "cell_type": "markdown",
   "metadata": {},
   "source": [
    "Lets compute the theoretical price using the AnalyticEuropeanEngine"
   ]
  },
  {
   "cell_type": "code",
   "execution_count": 98,
   "metadata": {
    "collapsed": true
   },
   "outputs": [],
   "source": [
    "engine = ql.AnalyticHestonEngine(heston_model)\n",
    "option.setPricingEngine(engine)"
   ]
  },
  {
   "cell_type": "code",
   "execution_count": 100,
   "metadata": {},
   "outputs": [
    {
     "data": {
      "text/plain": [
       "7.827944594291182"
      ]
     },
     "execution_count": 100,
     "metadata": {},
     "output_type": "execute_result"
    }
   ],
   "source": [
    "option.NPV()"
   ]
  },
  {
   "cell_type": "markdown",
   "metadata": {},
   "source": [
    "Create put option"
   ]
  },
  {
   "cell_type": "code",
   "execution_count": 101,
   "metadata": {},
   "outputs": [],
   "source": [
    "option_type_new = ql.Option.Put\n",
    "strike_new = 130\n",
    "maturity_date_new = ql.Date(15, 1, 2016)\n",
    "\n",
    "payoff_new = ql.PlainVanillaPayoff(option_type_new, strike_new)\n",
    "exercise_new = ql.EuropeanExercise(maturity_date_new)\n",
    "option_new = ql.VanillaOption(payoff_new, exercise_new)\n",
    "\n",
    "option_new.setPricingEngine(engine)"
   ]
  },
  {
   "cell_type": "markdown",
   "metadata": {},
   "source": [
    "Make plot"
   ]
  },
  {
   "cell_type": "code",
   "execution_count": 102,
   "metadata": {},
   "outputs": [
    {
     "data": {
      "text/plain": [
       "<matplotlib.legend.Legend at 0x9f91d30>"
      ]
     },
     "execution_count": 102,
     "metadata": {},
     "output_type": "execute_result"
    },
    {
     "data": {
      "image/png": "[encoded data removed]",
      "text/plain": [
       "<matplotlib.figure.Figure at 0xc379278>"
      ]
     },
     "metadata": {},
     "output_type": "display_data"
    }
   ],
   "source": [
    "xs = np.linspace(10, 240.0, 100)\n",
    "ys = []\n",
    "ys2 = []\n",
    "for x in xs:\n",
    "    spot.setValue(x)\n",
    "    ys.append(option.NPV())\n",
    "    ys2.append(option_new.NPV())\n",
    "    \n",
    "plt.figure(figsize=(15, 6), dpi=80)\n",
    "plt.subplot(1, 1, 1)\n",
    "plt.plot(xs, ys, color=\"blue\", linewidth=1.0, linestyle=\"-\", label = \"Call\")\n",
    "plt.plot(xs, ys2, color=\"green\", linewidth=1.0, linestyle=\"-\", label = \"Put\")\n",
    "plt.legend(loc='upper center')    "
   ]
  },
  {
   "cell_type": "markdown",
   "metadata": {},
   "source": [
    "---"
   ]
  },
  {
   "cell_type": "markdown",
   "metadata": {},
   "source": [
    "# Modeling Vanilla Interest Rate Swaps "
   ]
  },
  {
   "cell_type": "markdown",
   "metadata": {},
   "source": [
    "An Interest Rate Swap is a financial derivative instrument in which two parties agree to exchange interest rate cash flows based on a notional amount from a fixed rate to a floating rate or from one floating rate to another floating rate.\n",
    "\n",
    "Here we will consider an example of a plain vanilla USD swap with 10 million notional and 10 year maturity. Let the fixed leg pay 2.5% coupon semiannually, and the floating leg pay Libor 3m quarterly."
   ]
  },
  {
   "cell_type": "markdown",
   "metadata": {},
   "source": [
    "Construct discount curve and libor curve"
   ]
  },
  {
   "cell_type": "code",
   "execution_count": 103,
   "metadata": {
    "collapsed": true
   },
   "outputs": [],
   "source": [
    "risk_free_rate = 0.01\n",
    "libor_rate = 0.02\n",
    "day_count = ql.Actual365Fixed()\n",
    "\n",
    "discount_curve = ql.YieldTermStructureHandle(ql.FlatForward(evaluationDate, risk_free_rate, day_count))\n",
    "libor_curve = ql.YieldTermStructureHandle(ql.FlatForward(evaluationDate, libor_rate, day_count))\n",
    "\n",
    "libor3M_index = ql.USDLibor(ql.Period(3, ql.Months), libor_curve)"
   ]
  },
  {
   "cell_type": "markdown",
   "metadata": {},
   "source": [
    "To construct the Swap instrument, we have to specify the fixed rate leg and floating rate leg. We construct the fixed rate and floating rate leg schedules below."
   ]
  },
  {
   "cell_type": "code",
   "execution_count": 107,
   "metadata": {},
   "outputs": [],
   "source": [
    "calendar = ql.UnitedStates()\n",
    "settle_date = calendar.advance(evaluationDate, 5, ql.Days)\n",
    "maturity_date = calendar.advance(settle_date, 10, ql.Years)\n",
    "\n",
    "fixed_leg_tenor = ql.Period(6, ql.Months)\n",
    "fixed_schedule = ql.Schedule(settle_date, \n",
    "                          maturity_date, \n",
    "                          fixed_leg_tenor,\n",
    "                          calendar,\n",
    "                          ql.ModifiedFollowing,\n",
    "                          ql.ModifiedFollowing,\n",
    "                          ql.DateGeneration.Forward, \n",
    "                          False)\n",
    "\n",
    "float_leg_tenor = ql.Period(3, ql.Months)\n",
    "float_schedule = ql.Schedule(settle_date,\n",
    "                          maturity_date,\n",
    "                          float_leg_tenor,\n",
    "                          calendar,\n",
    "                          ql.ModifiedFollowing, \n",
    "                          ql.ModifiedFollowing,\n",
    "                          ql.DateGeneration.Forward,\n",
    "                          False)"
   ]
  },
  {
   "cell_type": "markdown",
   "metadata": {},
   "source": [
    "Below, we construct a VanillaSwap object by including the fixed and float leg schedules created above."
   ]
  },
  {
   "cell_type": "code",
   "execution_count": 108,
   "metadata": {
    "collapsed": true
   },
   "outputs": [],
   "source": [
    "notional = 10000000\n",
    "fixed_rate = 0.025\n",
    "fixed_leg_daycount = ql.Actual360()\n",
    "float_leg_daycount = ql.Actual360()\n",
    "float_spread = 0.004\n",
    "\n",
    "ir_swap = ql.VanillaSwap(ql.VanillaSwap.Payer,\n",
    "                      notional,\n",
    "                      fixed_schedule,\n",
    "                      fixed_rate,\n",
    "                      fixed_leg_daycount,\n",
    "                      float_schedule,\n",
    "                      libor3M_index,\n",
    "                      float_spread,\n",
    "                      float_leg_daycount)"
   ]
  },
  {
   "cell_type": "markdown",
   "metadata": {},
   "source": [
    "We evaluate the swap using a discounting engine."
   ]
  },
  {
   "cell_type": "code",
   "execution_count": 109,
   "metadata": {
    "collapsed": true
   },
   "outputs": [],
   "source": [
    "swap_engine = ql.DiscountingSwapEngine(discount_curve)\n",
    "ir_swap.setPricingEngine(swap_engine)"
   ]
  },
  {
   "cell_type": "markdown",
   "metadata": {},
   "source": [
    "#### Result Analysis"
   ]
  },
  {
   "cell_type": "markdown",
   "metadata": {},
   "source": [
    "The cashflows for the fixed and floating leg can be extracted from the ir_swap object. The fixed leg cashflows are shown below:"
   ]
  },
  {
   "cell_type": "code",
   "execution_count": 110,
   "metadata": {},
   "outputs": [
    {
     "name": "stdout",
     "output_type": "stream",
     "text": [
      " 1  July 23rd, 2015        125694.44\n",
      " 2  January 25th, 2016     129166.67\n",
      " 3  July 25th, 2016        126388.89\n",
      " 4  January 23rd, 2017     126388.89\n",
      " 5  July 24th, 2017        126388.89\n",
      " 6  January 23rd, 2018     127083.33\n",
      " 7  July 23rd, 2018        125694.44\n",
      " 8  January 23rd, 2019     127777.78\n",
      " 9  July 23rd, 2019        125694.44\n",
      "10  January 23rd, 2020     127777.78\n",
      "11  July 23rd, 2020        126388.89\n",
      "12  January 25th, 2021     129166.67\n",
      "13  July 23rd, 2021        124305.56\n",
      "14  January 24th, 2022     128472.22\n",
      "15  July 25th, 2022        126388.89\n",
      "16  January 23rd, 2023     126388.89\n",
      "17  July 24th, 2023        126388.89\n",
      "18  January 23rd, 2024     127083.33\n",
      "19  July 23rd, 2024        126388.89\n",
      "20  January 23rd, 2025     127777.78\n"
     ]
    }
   ],
   "source": [
    "for i, cf in enumerate(ir_swap.leg(0)):\n",
    "    print (\"%2d  %-20s  %10.2f\" % (i+1, cf.date(), cf.amount()))"
   ]
  },
  {
   "cell_type": "code",
   "execution_count": 111,
   "metadata": {},
   "outputs": [
    {
     "name": "stdout",
     "output_type": "stream",
     "text": [
      " 1  April 23rd, 2015        59436.87\n",
      " 2  July 23rd, 2015         60098.65\n",
      " 3  October 23rd, 2015      60760.46\n",
      " 4  January 25th, 2016      62084.17\n",
      " 5  April 25th, 2016        60098.65\n",
      " 6  July 25th, 2016         60098.65\n",
      " 7  October 24th, 2016      60098.65\n",
      " 8  January 23rd, 2017      60098.65\n",
      " 9  April 24th, 2017        60098.65\n",
      "10  July 24th, 2017         60098.65\n",
      "11  October 23rd, 2017      60098.65\n",
      "12  January 23rd, 2018      60760.46\n",
      "13  April 23rd, 2018        59436.87\n",
      "14  July 23rd, 2018         60098.65\n",
      "15  October 23rd, 2018      60760.46\n",
      "16  January 23rd, 2019      60760.46\n",
      "17  April 23rd, 2019        59436.87\n",
      "18  July 23rd, 2019         60098.65\n",
      "19  October 23rd, 2019      60760.46\n",
      "20  January 23rd, 2020      60760.46\n",
      "21  April 23rd, 2020        60098.65\n",
      "22  July 23rd, 2020         60098.65\n",
      "23  October 23rd, 2020      60760.46\n",
      "24  January 25th, 2021      62084.17\n",
      "25  April 23rd, 2021        58113.40\n",
      "26  July 23rd, 2021         60098.65\n",
      "27  October 25th, 2021      62084.17\n",
      "28  January 24th, 2022      60098.65\n",
      "29  April 25th, 2022        60098.65\n",
      "30  July 25th, 2022         60098.65\n",
      "31  October 24th, 2022      60098.65\n",
      "32  January 23rd, 2023      60098.65\n",
      "33  April 24th, 2023        60098.65\n",
      "34  July 24th, 2023         60098.65\n",
      "35  October 23rd, 2023      60098.65\n",
      "36  January 23rd, 2024      60760.46\n",
      "37  April 23rd, 2024        60098.65\n",
      "38  July 23rd, 2024         60098.65\n",
      "39  October 23rd, 2024      60760.46\n",
      "40  January 23rd, 2025      60760.46\n"
     ]
    }
   ],
   "source": [
    "for i, cf in enumerate(ir_swap.leg(1)):\n",
    "    print (\"%2d  %-20s  %10.2f\" % (i+1, cf.date(), cf.amount()))"
   ]
  },
  {
   "cell_type": "markdown",
   "metadata": {},
   "source": [
    "Some other analytics such as the fair value, fair spread etc can be extracted as shown below."
   ]
  },
  {
   "cell_type": "code",
   "execution_count": 113,
   "metadata": {},
   "outputs": [
    {
     "name": "stdout",
     "output_type": "stream",
     "text": [
      "Net Present Value   :          -115050.676\n",
      "Fair Spread         :                0.005\n",
      "Fair Rate           :                0.024\n",
      "Fixed Leg BPS       :            -9629.716\n",
      "Floating Leg BPS    :             9641.779\n"
     ]
    }
   ],
   "source": [
    "print (\"%-20s: %20.3f\" % (\"Net Present Value\", ir_swap.NPV()))\n",
    "print (\"%-20s: %20.3f\" % (\"Fair Spread\", ir_swap.fairSpread()))\n",
    "print (\"%-20s: %20.3f\" % (\"Fair Rate\", ir_swap.fairRate()))\n",
    "print (\"%-20s: %20.3f\" % (\"Fixed Leg BPS\", ir_swap.fixedLegBPS()))\n",
    "print (\"%-20s: %20.3f\" % (\"Floating Leg BPS\", ir_swap.floatingLegBPS()))"
   ]
  },
  {
   "cell_type": "markdown",
   "metadata": {},
   "source": [
    "---"
   ]
  },
  {
   "cell_type": "markdown",
   "metadata": {
    "collapsed": true
   },
   "source": [
    "# Nelson-Siegel model"
   ]
  },
  {
   "cell_type": "code",
   "execution_count": 157,
   "metadata": {},
   "outputs": [],
   "source": [
    "calendar = ql.TARGET()\n",
    "today = evaluationDate"
   ]
  },
  {
   "cell_type": "markdown",
   "metadata": {},
   "source": [
    "Create bonds"
   ]
  },
  {
   "cell_type": "code",
   "execution_count": 158,
   "metadata": {
    "collapsed": true
   },
   "outputs": [],
   "source": [
    "number_of_bonds = 15\n",
    "faceValue = 100.0\n",
    "\n",
    "quotes_handle = []    \n",
    "for i in range(number_of_bonds):\n",
    "    quotes_handle.append(ql.QuoteHandle(ql.SimpleQuote(faceValue)))\n",
    "\n",
    "coupons_real = [0.1005, 0.0995, 0.0968, 0.0929, 0.0927,\n",
    "                0.0927, 0.0918, 0.0914, 0.0912, 0.0911,\n",
    "                0.0915, 0.0912, 0.0909, 0.0903, 0.0907]\n",
    "\n",
    "tenor = ql.Period(3, ql.Months)\n",
    "day_counter = ql.Thirty360()\n",
    "accrualConvention = ql.Unadjusted\n",
    "convention = ql.Unadjusted\n",
    "\n",
    "bondSettlementDays = 0\n",
    "curveSettlementDays = 0\n",
    "bondSettlementDate = calendar.advance(today, bondSettlementDays, ql.Days)"
   ]
  },
  {
   "cell_type": "markdown",
   "metadata": {},
   "source": [
    "Create helpers"
   ]
  },
  {
   "cell_type": "code",
   "execution_count": 159,
   "metadata": {},
   "outputs": [],
   "source": [
    "market_price = faceValue\n",
    "bonds_yields = []\n",
    "instrumentsA = []\n",
    "maturities = []\n",
    "\n",
    "for j in range(number_of_bonds):\n",
    "    \n",
    "    # bonds every three months\n",
    "    maturity = bondSettlementDate + (j+1)*tenor\n",
    "    maturities.append(str(maturity))\n",
    "   \n",
    "    \n",
    "    schedule = ql.Schedule(bondSettlementDate, \n",
    "                           maturity, \n",
    "                           tenor,\n",
    "                           calendar,\n",
    "                           accrualConvention,\n",
    "                           accrualConvention,\n",
    "                           ql.DateGeneration.Forward,\n",
    "                           False)\n",
    "    \n",
    "    fixedRateBond = ql.FixedRateBond(bondSettlementDays, faceValue, schedule, [coupons_real[j]], day_counter)\n",
    "    bond_yield = fixedRateBond.bondYield(market_price, day_counter, ql.Continuous, ql.Quarterly)\n",
    "    bonds_yields.append(bond_yield)\n",
    "    \n",
    "    helperA = ql.FixedRateBondHelper(quotes_handle[j],\n",
    "                                     bondSettlementDays,\n",
    "                                     faceValue,\n",
    "                                     schedule,\n",
    "                                     [coupons_real[j]], \n",
    "                                     day_counter,\n",
    "                                     convention)     \n",
    "    instrumentsA.append(helperA)"
   ]
  },
  {
   "cell_type": "code",
   "execution_count": 170,
   "metadata": {},
   "outputs": [
    {
     "data": {
      "text/plain": [
       "'\\ncash_flows = fixedRateBond.cashflows()\\ndef price_error_given_yield(rate):\\n    interestRate = ql.InterestRate(rate, dayCount, compounding, compoundingFrequency)    \\n    return ql.CashFlows_npv(cash_flows, interestRate, False) - market_price     \\n\\nsolver = ql.Bisection()\\naccuracy = 0.000001\\nsolver_max = 0.15\\nsolver_min = 0.0025\\nirr = solver.solve(price_error_given_yield, accuracy, solver_min, solver_max)\\nirr\\n\\n'"
      ]
     },
     "execution_count": 170,
     "metadata": {},
     "output_type": "execute_result"
    }
   ],
   "source": [
    "\"\"\"\n",
    "cash_flows = fixedRateBond.cashflows()\n",
    "def price_error_given_yield(rate):\n",
    "    interestRate = ql.InterestRate(rate, dayCount, compounding, compoundingFrequency)    \n",
    "    return ql.CashFlows_npv(cash_flows, interestRate, False) - market_price     \n",
    "\n",
    "solver = ql.Bisection()\n",
    "accuracy = 0.000001\n",
    "solver_max = 0.15\n",
    "solver_min = 0.0025\n",
    "irr = solver.solve(price_error_given_yield, accuracy, solver_min, solver_max)\n",
    "irr\n",
    "\n",
    "\"\"\""
   ]
  },
  {
   "cell_type": "markdown",
   "metadata": {},
   "source": [
    "Set parameters for optimization"
   ]
  },
  {
   "cell_type": "code",
   "execution_count": 160,
   "metadata": {},
   "outputs": [],
   "source": [
    "constrainAtZero = True\n",
    "tolerance = 1.0e-5;\n",
    "max_iterations = 5000;"
   ]
  },
  {
   "cell_type": "markdown",
   "metadata": {},
   "source": [
    "There are some fitting algorithms"
   ]
  },
  {
   "cell_type": "code",
   "execution_count": 161,
   "metadata": {},
   "outputs": [],
   "source": [
    "nelsonSiegel = ql.NelsonSiegelFitting()\n",
    "svensson = ql.SvenssonFitting()\n",
    "simplePolynomial = ql.SimplePolynomialFitting(3, constrainAtZero)\n",
    "exponentialSplines = ql.ExponentialSplinesFitting(constrainAtZero)"
   ]
  },
  {
   "cell_type": "code",
   "execution_count": 162,
   "metadata": {},
   "outputs": [],
   "source": [
    "term_structure = ql.FittedBondDiscountCurve(curveSettlementDays, \n",
    "                                 calendar, \n",
    "                                 instrumentsA,\n",
    "                                 dayCount,\n",
    "                                 nelsonSiegel,\n",
    "                                 tolerance,\n",
    "                                 max_iterations)"
   ]
  },
  {
   "cell_type": "markdown",
   "metadata": {},
   "source": [
    "Fitted parameters chosen model"
   ]
  },
  {
   "cell_type": "code",
   "execution_count": 163,
   "metadata": {},
   "outputs": [
    {
     "name": "stdout",
     "output_type": "stream",
     "text": [
      "0.09160606272305358\n",
      "0.012429046623527298\n",
      "-0.02187450847598746\n",
      "1.095678925533982\n"
     ]
    }
   ],
   "source": [
    "a = term_structure.fitResults()\n",
    "b = a.solution()\n",
    "for i in range(len(b)):\n",
    "    print(b[i])"
   ]
  },
  {
   "cell_type": "code",
   "execution_count": 164,
   "metadata": {},
   "outputs": [],
   "source": [
    "# This method requires for cut day suffixes\n",
    "import re\n",
    "def solve(s):\n",
    "    ss =  re.sub(r'(\\d)(st|nd|rd|th)', r'\\1', s)\n",
    "    ss = ss.replace(',', '')\n",
    "    return ss"
   ]
  },
  {
   "cell_type": "markdown",
   "metadata": {},
   "source": [
    "Getting curve"
   ]
  },
  {
   "cell_type": "code",
   "execution_count": 165,
   "metadata": {},
   "outputs": [],
   "source": [
    "spots_model = []\n",
    "dates_model = []\n",
    "i = -1\n",
    "\n",
    "while True:    \n",
    "    \n",
    "    i+=1\n",
    "    date = evaluationDate + ql.Period(i, ql.Days)\n",
    "    \n",
    "    if date > term_structure.maxDate() - ql.Period(1, ql.Years):        \n",
    "        break\n",
    "     \n",
    "    dates_model.append(str(date))\n",
    "    yrs = dayCount.yearFraction(evaluationDate, date)\n",
    "    compounding = ql.Continuous\n",
    "    freq = ql.Quarterly\n",
    "    zero_rate = term_structure.zeroRate(yrs, compounding, freq)   \n",
    "    eq_rate = zero_rate.equivalentRate(day_counter, compounding, freq, evaluationDate,date).rate()\n",
    "    spots_model.append(zero_rate.rate())"
   ]
  },
  {
   "cell_type": "markdown",
   "metadata": {},
   "source": [
    "Prepare dateTime axis"
   ]
  },
  {
   "cell_type": "code",
   "execution_count": 166,
   "metadata": {},
   "outputs": [],
   "source": [
    "from datetime import datetime\n",
    "\n",
    "dates_by_model = []\n",
    "\n",
    "for i in range(len(dates_model)):\n",
    "    dates_points = datetime.strptime(solve(dates_model[i]), '%B %d %Y')\n",
    "    dates_by_model.append(dates_points)\n",
    "\n",
    "dates_by_points = []\n",
    "\n",
    "for i in range(len(maturities)):\n",
    "    dates_points = datetime.strptime(solve(maturities[i]), '%B %d %Y')\n",
    "    dates_by_points.append(dates_points)\n",
    "    \n",
    "dates_by_model_graph = matplotlib.dates.date2num(dates_by_model)\n",
    "dates_by_points_graph = matplotlib.dates.date2num(dates_by_points)    "
   ]
  },
  {
   "cell_type": "markdown",
   "metadata": {},
   "source": [
    "Plot"
   ]
  },
  {
   "cell_type": "code",
   "execution_count": 167,
   "metadata": {
    "scrolled": false
   },
   "outputs": [
    {
     "data": {
      "text/plain": [
       "[<matplotlib.lines.Line2D at 0x9ebe7b8>]"
      ]
     },
     "execution_count": 167,
     "metadata": {},
     "output_type": "execute_result"
    },
    {
     "data": {
      "image/png": "[encoded data removed]",
      "text/plain": [
       "<matplotlib.figure.Figure at 0x9a089e8>"
      ]
     },
     "metadata": {},
     "output_type": "display_data"
    }
   ],
   "source": [
    "plt.figure(figsize=(17, 10), dpi=80)\n",
    "plt.plot_date(dates_by_model_graph, spots_model, \"b-\", lw=1, alpha=0.6)\n",
    "plt.plot_date(dates_by_points_graph, coupons_real)"
   ]
  },
  {
   "cell_type": "code",
   "execution_count": 168,
   "metadata": {},
   "outputs": [
    {
     "data": {
      "text/plain": [
       "[<matplotlib.lines.Line2D at 0xab3f080>]"
      ]
     },
     "execution_count": 168,
     "metadata": {},
     "output_type": "execute_result"
    },
    {
     "data": {
      "image/png": "[encoded data removed]",
      "text/plain": [
       "<matplotlib.figure.Figure at 0xa150748>"
      ]
     },
     "metadata": {},
     "output_type": "display_data"
    }
   ],
   "source": [
    "plt.figure(figsize=(17, 10), dpi=80)\n",
    "plt.plot_date(dates_by_model_graph, spots_model, \"b-\", lw=1, alpha=0.6)\n",
    "plt.plot_date(dates_by_points_graph, bonds_yields)"
   ]
  },
  {
   "cell_type": "markdown",
   "metadata": {
    "collapsed": true
   },
   "source": [
    "---"
   ]
  },
  {
   "cell_type": "markdown",
   "metadata": {},
   "source": [
    "# Stochastic straying"
   ]
  },
  {
   "cell_type": "code",
   "execution_count": 133,
   "metadata": {},
   "outputs": [],
   "source": [
    "bmp = ql.GeometricBrownianMotionProcess(1.0, 1.0, 1.0)"
   ]
  },
  {
   "cell_type": "code",
   "execution_count": 134,
   "metadata": {},
   "outputs": [],
   "source": [
    "rnd = ql.UniformRandomGenerator()"
   ]
  },
  {
   "cell_type": "code",
   "execution_count": 135,
   "metadata": {
    "collapsed": true
   },
   "outputs": [],
   "source": [
    "steps = 1000"
   ]
  },
  {
   "cell_type": "code",
   "execution_count": 136,
   "metadata": {
    "collapsed": true
   },
   "outputs": [],
   "source": [
    "len_time = 1"
   ]
  },
  {
   "cell_type": "code",
   "execution_count": 137,
   "metadata": {},
   "outputs": [],
   "source": [
    "seq = ql.GaussianRandomSequenceGenerator(ql.UniformRandomSequenceGenerator(steps, rnd))"
   ]
  },
  {
   "cell_type": "code",
   "execution_count": 138,
   "metadata": {},
   "outputs": [],
   "source": [
    "pahtGen = ql.GaussianPathGenerator(bmp, len_time, steps, seq, True)"
   ]
  },
  {
   "cell_type": "code",
   "execution_count": 151,
   "metadata": {},
   "outputs": [],
   "source": [
    "num_paths = 3"
   ]
  },
  {
   "cell_type": "code",
   "execution_count": 152,
   "metadata": {},
   "outputs": [],
   "source": [
    "time = []\n",
    "paths = np.zeros((num_paths, steps+1))\n",
    "for i in range(num_paths):\n",
    "    path = pahtGen.next().value()\n",
    "    time = [path.time(j) for j in range(len(path))]   \n",
    "    value = [path[j] for j in range(len(path))]\n",
    "    paths[i, :] = np.array(path)\n",
    "    \n",
    "time = np.array(time)    "
   ]
  },
  {
   "cell_type": "code",
   "execution_count": 153,
   "metadata": {},
   "outputs": [
    {
     "data": {
      "image/png": "[encoded data removed]",
      "text/plain": [
       "<matplotlib.figure.Figure at 0xc273d30>"
      ]
     },
     "metadata": {},
     "output_type": "display_data"
    }
   ],
   "source": [
    "for i in range(num_paths):\n",
    "    plt.plot(time, paths[i, :], lw=0.8, alpha=0.6)\n",
    "plt.title(\"Random\")\n",
    "plt.show()"
   ]
  }
 ],
 "metadata": {
  "kernelspec": {
   "display_name": "Python 3",
   "language": "python",
   "name": "python3"
  },
  "language_info": {
   "codemirror_mode": {
    "name": "ipython",
    "version": 3
   },
   "file_extension": ".py",
   "mimetype": "text/x-python",
   "name": "python",
   "nbconvert_exporter": "python",
   "pygments_lexer": "ipython3",
   "version": "3.6.1"
  }
 },
 "nbformat": 4,
 "nbformat_minor": 1
}
