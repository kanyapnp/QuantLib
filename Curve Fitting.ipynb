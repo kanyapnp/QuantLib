{
 "cells": [
  {
   "cell_type": "code",
   "execution_count": 1,
   "metadata": {
    "collapsed": true
   },
   "outputs": [],
   "source": [
    "from datetime import datetime, date, time\n",
    "import QuantLib as ql"
   ]
  },
  {
   "cell_type": "markdown",
   "metadata": {},
   "source": [
    "### Internal Objects"
   ]
  },
  {
   "cell_type": "code",
   "execution_count": 2,
   "metadata": {
    "collapsed": true
   },
   "outputs": [],
   "source": [
    "class Bond(object):\n",
    "    \n",
    "    def __init__(self, issuer, bond_name, price, tenor, face_amount):\n",
    "        self.dates = []\n",
    "        self.cashflows = [] \n",
    "        self.issuer = issuer\n",
    "        self.bond_name = bond_name\n",
    "        self.price = ql.QuoteHandle(ql.SimpleQuote(price))        \n",
    "        self.tenor = tenor\n",
    "        self.face_amount = face_amount\n",
    "                \n",
    "    def add_date(self, date):\n",
    "        day, month, year = map(int, date.split('.'))\n",
    "        self.dates.append(ql.Date(day, month, year))\n",
    "    \n",
    "    def add_cashflow(self, cashflow):\n",
    "        self.cashflows.append(float(cashflow))\n",
    "    "
   ]
  },
  {
   "cell_type": "markdown",
   "metadata": {},
   "source": [
    "### Import Data"
   ]
  },
  {
   "cell_type": "code",
   "execution_count": 3,
   "metadata": {
    "collapsed": false
   },
   "outputs": [],
   "source": [
    "face_amount = 1000.0 # for all bonds face_amount = 1000.0\n",
    "tenor = ql.Period(6, ql.Months) # for all bonds tenor = 1000.0\n",
    "\n",
    "bonds = {}\n",
    "\n",
    "with open('bonds.txt') as f:\n",
    "    next(f) #skip header\n",
    "    \n",
    "    for line in f:\n",
    "        s = line.rstrip().split(';')\n",
    "        bond_name = s[1]\n",
    "        if bond_name not in bonds:\n",
    "            issuer = s[0]        \n",
    "            price = float(s[4])            \n",
    "            bonds[bond_name] = Bond(issuer, bond_name, price, tenor, face_amount)\n",
    "        \n",
    "        bonds[bond_name].add_date(s[2])\n",
    "        bonds[bond_name].add_cashflow(s[3])"
   ]
  },
  {
   "cell_type": "markdown",
   "metadata": {},
   "source": [
    "### Set QuantLib Param"
   ]
  },
  {
   "cell_type": "code",
   "execution_count": 4,
   "metadata": {
    "collapsed": false
   },
   "outputs": [],
   "source": [
    "evaluationDate = ql.Date(1, 6, 2016)\n",
    "ql.Settings.instance().evaluationDate = evaluationDate\n",
    "calendar = ql.TARGET()\n",
    "day_counter = ql.Thirty360()\n",
    "accrualConvention = ql.Unadjusted\n",
    "bussiness_convention = ql.Unadjusted\n",
    "bondSettlementDays = 0\n",
    "curveSettlementDays = 0\n",
    "bondSettlementDate = calendar.advance(evaluationDate, bondSettlementDays, ql.Days)"
   ]
  },
  {
   "cell_type": "markdown",
   "metadata": {},
   "source": [
    "### Make QuantLib Packaging"
   ]
  },
  {
   "cell_type": "code",
   "execution_count": 5,
   "metadata": {
    "collapsed": false
   },
   "outputs": [],
   "source": [
    "instruments = []\n",
    "instruments_names = []\n",
    "\n",
    "for bond in bonds.keys():\n",
    "    \n",
    "        schedule = ql.Schedule(bonds[bond].dates[0] - bonds[bond].tenor, \n",
    "                               bonds[bond].dates[-1], \n",
    "                               bonds[bond].tenor,\n",
    "                               calendar,\n",
    "                               accrualConvention,\n",
    "                               accrualConvention,\n",
    "                               ql.DateGeneration.Forward,\n",
    "                               False)\n",
    " \n",
    "        helperA = ql.FixedRateBondHelper(bonds[bond].price,\n",
    "                                         bondSettlementDays,\n",
    "                                         bonds[bond].face_amount,\n",
    "                                         schedule,\n",
    "                                         bonds[bond].cashflows,\n",
    "                                         day_counter,\n",
    "                                         bussiness_convention)\n",
    "           \n",
    "        instruments.append(helperA)\n",
    "        instruments_names.append(bond)"
   ]
  },
  {
   "cell_type": "markdown",
   "metadata": {},
   "source": [
    "### Check Cashflows"
   ]
  },
  {
   "cell_type": "code",
   "execution_count": 7,
   "metadata": {
    "collapsed": false
   },
   "outputs": [],
   "source": [
    "for index, instrument in enumerate(instruments):    \n",
    "    for cashflow in instrument.bond().cashflows():\n",
    "        print('{!s:15} {!s:20} {!s:20}'.format(instruments_names[index], cashflow.date(), cashflow.amount()))\n",
    "    print('\\t')    "
   ]
  },
  {
   "cell_type": "markdown",
   "metadata": {},
   "source": [
    "### Make QuantLib Optimization"
   ]
  },
  {
   "cell_type": "code",
   "execution_count": 8,
   "metadata": {
    "collapsed": false
   },
   "outputs": [
    {
     "ename": "RuntimeError",
     "evalue": "unable to bracket root in 100 function evaluations (last bracket attempt: f[-2.29538e+025,5.968e+025] -> [-1.#IND,10200.1])",
     "output_type": "error",
     "traceback": [
      "\u001b[1;31m---------------------------------------------------------------------------\u001b[0m",
      "\u001b[1;31mRuntimeError\u001b[0m                              Traceback (most recent call last)",
      "\u001b[1;32m<ipython-input-8-fd41f98751e2>\u001b[0m in \u001b[0;36m<module>\u001b[1;34m()\u001b[0m\n\u001b[0;32m      9\u001b[0m                                  \u001b[0mtolerance\u001b[0m\u001b[1;33m,\u001b[0m\u001b[1;33m\u001b[0m\u001b[0m\n\u001b[0;32m     10\u001b[0m                                  iterations)\n\u001b[1;32m---> 11\u001b[1;33m \u001b[0ma\u001b[0m \u001b[1;33m=\u001b[0m \u001b[0mterm_structure\u001b[0m\u001b[1;33m.\u001b[0m\u001b[0mfitResults\u001b[0m\u001b[1;33m(\u001b[0m\u001b[1;33m)\u001b[0m\u001b[1;33m\u001b[0m\u001b[0m\n\u001b[0m",
      "\u001b[1;32mC:\\Users\\DolmatovKI\\Desktop\\WinPython-64bit-3.4.4.1\\python-3.4.4.amd64\\lib\\site-packages\\QuantLib\\QuantLib.py\u001b[0m in \u001b[0;36mfitResults\u001b[1;34m(self)\u001b[0m\n\u001b[0;32m  14414\u001b[0m \u001b[1;33m\u001b[0m\u001b[0m\n\u001b[0;32m  14415\u001b[0m     \u001b[1;32mdef\u001b[0m \u001b[0mfitResults\u001b[0m\u001b[1;33m(\u001b[0m\u001b[0mself\u001b[0m\u001b[1;33m)\u001b[0m \u001b[1;33m->\u001b[0m \u001b[1;34m\"FittingMethod const &\"\u001b[0m\u001b[1;33m:\u001b[0m\u001b[1;33m\u001b[0m\u001b[0m\n\u001b[1;32m> 14416\u001b[1;33m         \u001b[1;32mreturn\u001b[0m \u001b[0m_QuantLib\u001b[0m\u001b[1;33m.\u001b[0m\u001b[0mFittedBondDiscountCurve_fitResults\u001b[0m\u001b[1;33m(\u001b[0m\u001b[0mself\u001b[0m\u001b[1;33m)\u001b[0m\u001b[1;33m\u001b[0m\u001b[0m\n\u001b[0m\u001b[0;32m  14417\u001b[0m     \u001b[0m__swig_destroy__\u001b[0m \u001b[1;33m=\u001b[0m \u001b[0m_QuantLib\u001b[0m\u001b[1;33m.\u001b[0m\u001b[0mdelete_FittedBondDiscountCurve\u001b[0m\u001b[1;33m\u001b[0m\u001b[0m\n\u001b[0;32m  14418\u001b[0m     \u001b[0m__del__\u001b[0m \u001b[1;33m=\u001b[0m \u001b[1;32mlambda\u001b[0m \u001b[0mself\u001b[0m\u001b[1;33m:\u001b[0m \u001b[1;32mNone\u001b[0m\u001b[1;33m\u001b[0m\u001b[0m\n",
      "\u001b[1;31mRuntimeError\u001b[0m: unable to bracket root in 100 function evaluations (last bracket attempt: f[-2.29538e+025,5.968e+025] -> [-1.#IND,10200.1])"
     ]
    }
   ],
   "source": [
    "tolerance = 1.0e-5\n",
    "iterations = 50000\n",
    "nelsonSiegel = ql.NelsonSiegelFitting()\n",
    "term_structure = ql.FittedBondDiscountCurve(curveSettlementDays, \n",
    "                                 calendar, \n",
    "                                 instruments,\n",
    "                                 day_counter,\n",
    "                                 nelsonSiegel,\n",
    "                                 tolerance,\n",
    "                                 iterations)\n",
    "a = term_structure.fitResults()\n"
   ]
  }
 ],
 "metadata": {
  "kernelspec": {
   "display_name": "Python 3",
   "language": "python",
   "name": "python3"
  },
  "language_info": {
   "codemirror_mode": {
    "name": "ipython",
    "version": 3
   },
   "file_extension": ".py",
   "mimetype": "text/x-python",
   "name": "python",
   "nbconvert_exporter": "python",
   "pygments_lexer": "ipython3",
   "version": "3.4.4"
  }
 },
 "nbformat": 4,
 "nbformat_minor": 0
}
