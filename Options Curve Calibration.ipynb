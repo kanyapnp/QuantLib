{
 "cells": [
  {
   "cell_type": "markdown",
   "metadata": {
    "collapsed": false
   },
   "source": [
    "# TODO:\n",
    "#### 1. Динамический выбор лучшей формулы улыбки на основании сравнения ошибок\n",
    "#### 2. Построение улыбки на основании выбранной формулы\n",
    "#### 3. Скалирование t"
   ]
  },
  {
   "cell_type": "code",
   "execution_count": 1,
   "metadata": {
    "collapsed": true
   },
   "outputs": [],
   "source": [
    "from datetime import datetime, date, time\n",
    "from openpyxl import load_workbook\n",
    "from scipy import optimize\n",
    "from scipy.stats import norm\n",
    "import numpy as np\n",
    "import matplotlib.pyplot as plt\n",
    "%matplotlib inline"
   ]
  },
  {
   "cell_type": "code",
   "execution_count": 2,
   "metadata": {
    "collapsed": true
   },
   "outputs": [],
   "source": [
    "class Option(object):\n",
    "    '''\n",
    "    '''\n",
    "    def __init__(self, curr_date, contract, exp_date, tick_price, tick,\n",
    "                 fut_contract, strike, call, w, theor_price, fut_price):\n",
    "        \n",
    "        self.curr_date = datetime.strptime(curr_date, '%Y-%m-%d %H:%M:%S.%f')\n",
    "        self.contract = contract        \n",
    "        self.exp_date = datetime.strptime(exp_date, '%Y-%m-%d %H:%M:%S.%f')\n",
    "        self.tick_price = float(tick_price)\n",
    "        self.tick = float(tick)\n",
    "        self.fut_contract = fut_contract\n",
    "        self.strike = float(strike)\n",
    "        self.call = call == 'C'\n",
    "        self.w = float(w)\n",
    "        self.theor_price = float(theor_price)\n",
    "        self.fut_price = fut_price\n",
    "        self.x = np.log(self.strike / self.fut_price)\n",
    "        self.t = (self.exp_date - self.curr_date).days  / 365.0\n",
    "        "
   ]
  },
  {
   "cell_type": "code",
   "execution_count": 3,
   "metadata": {
    "collapsed": false
   },
   "outputs": [],
   "source": [
    "class OptionSeries(object):\n",
    "    \n",
    "    '''Главная цель данного класса -\n",
    "    хранить объекты опционов, в виде \n",
    "    серии, т.е. опционов на один\n",
    "    фьючерсный контракт\n",
    "    '''\n",
    "    \n",
    "    def __init__(self, fut_contract, fut_price):\n",
    "        self.fut_contract = fut_contract\n",
    "        self.fut_price = float(fut_price)\n",
    "        self.options = {}\n",
    "        \n",
    "    \n",
    "    def add_option(self, option):\n",
    "        self.options[option.contract] = option\n",
    "        \n",
    "   \n",
    "    def get_strikes_vol(self):\n",
    "        for option in self.options.values():\n",
    "            yield option.strike, option.w[0], option.x\n",
    "    \n",
    "    def get_t_series(self):\n",
    "        '''\n",
    "        Возвращаем время до экспирации\n",
    "        '''\n",
    "        return next(iter(self.options.values())).t\n",
    "    \n",
    "                        \n",
    "    def get_w0(self):\n",
    "        for option in self.options.values():\n",
    "            if option.strike == self.fut_price:\n",
    "                return option.w[0]\n",
    "        raise ValueError(\"There isnt option with a central strike\")\n",
    "        \n",
    "    def get_w(self, x):\n",
    "        '''\n",
    "        Возвращаем w для заданной денежности\n",
    "        '''\n",
    "        \n",
    "    \n",
    "    def get_w_atm_opts(self):\n",
    "        '''Возвращаем w(x+) и w(x-)\n",
    "        '''\n",
    "        right_atm_opt, left_atm_opt = self.get_atm_opts()\n",
    "        return (right_atm_opt.w[0], left_atm_opt.w[0])\n",
    "\n",
    "    \n",
    "    def get_atm_opts(self):\n",
    "        '''Возвращаем два опциона ATM\n",
    "        (ближайших), справа и слева от\n",
    "        центрального страйка  \n",
    "        '''\n",
    "        \n",
    "        right_atm_opt = ''\n",
    "        left_atm_opt = ''\n",
    "        \n",
    "        right_atm_diff = np.inf\n",
    "        left_atm_diff = np.inf\n",
    "        \n",
    "        for option in self.options.values():\n",
    "            atm_diff = abs(option.strike - self.fut_price)\n",
    "            \n",
    "            if option.strike > self.fut_price and atm_diff < right_atm_diff:\n",
    "                right_atm_diff = atm_diff\n",
    "                right_atm_opt = option\n",
    "                \n",
    "            if option.strike < self.fut_price and atm_diff < left_atm_diff:\n",
    "                left_atm_diff = atm_diff\n",
    "                left_atm_opt = option\n",
    "                \n",
    "        return (right_atm_opt, left_atm_opt)       \n",
    "    \n",
    "        "
   ]
  },
  {
   "cell_type": "markdown",
   "metadata": {},
   "source": [
    "### Read File"
   ]
  },
  {
   "cell_type": "code",
   "execution_count": null,
   "metadata": {
    "collapsed": false
   },
   "outputs": [],
   "source": [
    "wb = load_workbook(filename=r'C:\\Users\\DolmatovKI\\Desktop\\WinPython-64bit-3.4.4.1\\notebooks\\Options Data\\RTS-6.16_new.xlsx', \n",
    "                   data_only=True)\n",
    "ws = wb['RTS-6.16 2016-06-10']\n",
    "ws = list(ws)[1:] # remove header"
   ]
  },
  {
   "cell_type": "code",
   "execution_count": null,
   "metadata": {
    "collapsed": false
   },
   "outputs": [],
   "source": [
    "options = {}\n",
    "\n",
    "for index, row in enumerate(ws):\n",
    "    option = Option(curr_date = row[0].value,\n",
    "                    contract = row[1].value, \n",
    "                    exp_date = row[2].value,\n",
    "                    tick_price = row[3].value,\n",
    "                    tick = row[4].value,\n",
    "                    fut_contract = row[5].value,\n",
    "                    strike = row[6].value,\n",
    "                    call = row[7].value,                        \n",
    "                    volat = row[8].value,\n",
    "                    theor_price = row[9].value,\n",
    "                    fut_price = row[10].value)\n",
    "    \n",
    "        \n",
    "    options[row[1].value] = option                                             \n",
    "       \n",
    "   "
   ]
  },
  {
   "cell_type": "markdown",
   "metadata": {},
   "source": [
    "### Make Options Series"
   ]
  },
  {
   "cell_type": "code",
   "execution_count": null,
   "metadata": {
    "collapsed": false
   },
   "outputs": [],
   "source": [
    "options_series = {}\n",
    "\n",
    "for option in options.values():\n",
    "    if option.fut_contract not in options_series:\n",
    "        options_series[option.fut_contract] = OptionSeries(option.fut_contract)          \n",
    "    options_series[option.fut_contract].add_option(option)"
   ]
  },
  {
   "cell_type": "markdown",
   "metadata": {},
   "source": [
    "### Callibration Functions"
   ]
  },
  {
   "cell_type": "code",
   "execution_count": null,
   "metadata": {
    "collapsed": true
   },
   "outputs": [],
   "source": [
    "def svi_func(p, K):\n",
    "    '''\n",
    "    p[0] = a\n",
    "    p[1] = b\n",
    "    p[2] = ro\n",
    "    p[3] = m\n",
    "    p[4] = sigma\n",
    "    k = ln(K/F)    \n",
    "    '''\n",
    "    output = []\n",
    "    for k in K:\n",
    "        res = np.sqrt(p[0] + p[1]*(p[2]*(k - p[3]) + np.sqrt((k - p[3])**2 + p[4]**2)))\n",
    "        output.append(res)\n",
    "        \n",
    "    return output\n",
    "\n",
    "\n",
    "\n",
    "def err_func(p, K, y):\n",
    "    return (svi_func(p, K) - y)"
   ]
  },
  {
   "cell_type": "code",
   "execution_count": null,
   "metadata": {
    "collapsed": true
   },
   "outputs": [],
   "source": [
    "def svi_func_err(parameters, *data):\n",
    "    '''\n",
    "    SVI func with built-in Error Func\n",
    "    \n",
    "    p[0] = a\n",
    "    p[1] = b\n",
    "    p[2] = ro\n",
    "    p[3] = m\n",
    "    p[4] = sigma\n",
    "    k = ln(K/F)    \n",
    "    '''\n",
    "    \n",
    "    a, b, ro, m, sigma = parameters\n",
    "    x, y = data\n",
    "    \n",
    "    res = 0\n",
    "    \n",
    "    for i in range(len(x)):\n",
    "        res += (np.sqrt(a + b*(ro*(x[i] - m) + np.sqrt((x[i] - m)**2.0 + sigma**2))) - y[i])**2\n",
    "    \n",
    "    return res**0.5"
   ]
  },
  {
   "cell_type": "markdown",
   "metadata": {},
   "source": [
    "### Validation SVI Func"
   ]
  },
  {
   "cell_type": "code",
   "execution_count": null,
   "metadata": {
    "collapsed": true
   },
   "outputs": [],
   "source": [
    "par = np.array([5.0, 10.0, -10.0, 10.0, 50.0])"
   ]
  },
  {
   "cell_type": "code",
   "execution_count": null,
   "metadata": {
    "collapsed": true
   },
   "outputs": [],
   "source": [
    "add_strikes = np.arange(1, 100, 0.1)\n",
    "add_strikes_ln = np.log(add_strikes / 49.0)"
   ]
  },
  {
   "cell_type": "code",
   "execution_count": null,
   "metadata": {
    "collapsed": true
   },
   "outputs": [],
   "source": [
    "y_values_new_test = svi_func(par, add_strikes_ln)\n",
    "y_values_new_test = np.array(y_values_new_test)   "
   ]
  },
  {
   "cell_type": "code",
   "execution_count": null,
   "metadata": {
    "collapsed": false
   },
   "outputs": [],
   "source": [
    "plt.plot(add_strikes, y_values_new_test, 'ro')"
   ]
  },
  {
   "cell_type": "markdown",
   "metadata": {
    "collapsed": true
   },
   "source": [
    "---"
   ]
  },
  {
   "cell_type": "markdown",
   "metadata": {},
   "source": [
    "## SVI Real Data"
   ]
  },
  {
   "cell_type": "markdown",
   "metadata": {},
   "source": [
    "### Get a glimpse of our data"
   ]
  },
  {
   "cell_type": "code",
   "execution_count": null,
   "metadata": {
    "collapsed": false
   },
   "outputs": [],
   "source": [
    "strikes_values = []\n",
    "x_values = []\n",
    "y_values = []\n",
    "for strike, volat, x in options_series['BR-8.16'].get_strikes_vol():\n",
    "    strikes_values.append(strike)\n",
    "    x_values.append(x) \n",
    "    y_values.append(volat)\n",
    "    \n",
    "x_values = np.array(x_values)\n",
    "y_values = np.array(y_values)\n",
    "strikes_values = np.array(strikes_values)"
   ]
  },
  {
   "cell_type": "code",
   "execution_count": null,
   "metadata": {
    "collapsed": false
   },
   "outputs": [],
   "source": [
    "# так лихо строить улыбку мы можем, потому что\n",
    "# значение вол-ти уже взято с кривой. В протвном \n",
    "# случае, пришлось бы брать среднее между call и\n",
    "# put для каждого страйка\n",
    "plt.plot(strikes_values, y_values, 'ro')"
   ]
  },
  {
   "cell_type": "markdown",
   "metadata": {},
   "source": [
    "---"
   ]
  },
  {
   "cell_type": "markdown",
   "metadata": {},
   "source": [
    "### Least Squares"
   ]
  },
  {
   "cell_type": "code",
   "execution_count": null,
   "metadata": {
    "collapsed": false
   },
   "outputs": [],
   "source": [
    "guess = np.array([2.0, 1.1, 1.0, -0.1, 10.])"
   ]
  },
  {
   "cell_type": "code",
   "execution_count": null,
   "metadata": {
    "collapsed": false
   },
   "outputs": [],
   "source": [
    "res = optimize.least_squares(fun=err_func, x0=guess, args=(x_values, y_values))"
   ]
  },
  {
   "cell_type": "code",
   "execution_count": null,
   "metadata": {
    "collapsed": false
   },
   "outputs": [],
   "source": [
    "res.x"
   ]
  },
  {
   "cell_type": "code",
   "execution_count": null,
   "metadata": {
    "collapsed": false
   },
   "outputs": [],
   "source": [
    "y_values_new = svi_func(res.x, x_values)\n",
    "y_values_new = np.array(y_values_new)"
   ]
  },
  {
   "cell_type": "code",
   "execution_count": null,
   "metadata": {
    "collapsed": false
   },
   "outputs": [],
   "source": [
    "plt.plot(strikes_values, y_values, 'ro', strikes_values, y_values_new, 'go')"
   ]
  },
  {
   "cell_type": "markdown",
   "metadata": {},
   "source": [
    "### Least Squares with Restrictions"
   ]
  },
  {
   "cell_type": "markdown",
   "metadata": {},
   "source": [
    "---"
   ]
  },
  {
   "cell_type": "markdown",
   "metadata": {},
   "source": [
    "---"
   ]
  },
  {
   "cell_type": "markdown",
   "metadata": {},
   "source": [
    "### Differential Evolution"
   ]
  },
  {
   "cell_type": "code",
   "execution_count": null,
   "metadata": {
    "collapsed": true
   },
   "outputs": [],
   "source": [
    "bounds = [(0, 10), (0, 10), (-1, 1), (48, 50), (10, 100)]"
   ]
  },
  {
   "cell_type": "code",
   "execution_count": null,
   "metadata": {
    "collapsed": true
   },
   "outputs": [],
   "source": [
    "result = optimize.differential_evolution(svi_func_err, bounds, args=(x_values, y_values))"
   ]
  },
  {
   "cell_type": "code",
   "execution_count": null,
   "metadata": {
    "collapsed": false
   },
   "outputs": [],
   "source": [
    "result.x"
   ]
  },
  {
   "cell_type": "code",
   "execution_count": null,
   "metadata": {
    "collapsed": false
   },
   "outputs": [],
   "source": [
    "y_values_new = svi_func(result.x, x_values)\n",
    "y_values_new = np.array(y_values_new) "
   ]
  },
  {
   "cell_type": "code",
   "execution_count": null,
   "metadata": {
    "collapsed": false
   },
   "outputs": [],
   "source": [
    "plt.plot(strikes_values, y_values, 'ro', strikes_values, y_values_new, 'go')"
   ]
  },
  {
   "cell_type": "markdown",
   "metadata": {
    "collapsed": true
   },
   "source": [
    "---"
   ]
  },
  {
   "cell_type": "markdown",
   "metadata": {},
   "source": [
    "### Downhill Simplex Algorithm"
   ]
  },
  {
   "cell_type": "code",
   "execution_count": null,
   "metadata": {
    "collapsed": true
   },
   "outputs": [],
   "source": [
    "guess = np.array([0.0, 0.0, 0.0, 0.0, 0.0])\n",
    "guess_ord = guess.tolist()"
   ]
  },
  {
   "cell_type": "code",
   "execution_count": null,
   "metadata": {
    "collapsed": true
   },
   "outputs": [],
   "source": [
    "x_values_ord = x_values.tolist()\n",
    "y_values_ord = y_values.tolist()"
   ]
  },
  {
   "cell_type": "code",
   "execution_count": null,
   "metadata": {
    "collapsed": false
   },
   "outputs": [],
   "source": [
    "res = optimize.fmin(func=svi_func_err, x0=guess_ord, args=(x_values_ord, y_values_ord), maxiter=100000, maxfun=100000)"
   ]
  },
  {
   "cell_type": "code",
   "execution_count": null,
   "metadata": {
    "collapsed": true
   },
   "outputs": [],
   "source": [
    "y_values_ord_new = svi_func(res, x_values_ord)"
   ]
  },
  {
   "cell_type": "code",
   "execution_count": null,
   "metadata": {
    "collapsed": false
   },
   "outputs": [],
   "source": [
    "plt.plot(strikes_values, y_values, 'ro', strikes_values, y_values_ord_new, 'go')"
   ]
  },
  {
   "cell_type": "markdown",
   "metadata": {
    "collapsed": true
   },
   "source": [
    "---"
   ]
  },
  {
   "cell_type": "markdown",
   "metadata": {},
   "source": [
    "### Summary"
   ]
  },
  {
   "cell_type": "markdown",
   "metadata": {},
   "source": [
    "Данная функция не совсем адекватно себя ведет в купе с имеющимися методами оптимизации."
   ]
  },
  {
   "cell_type": "markdown",
   "metadata": {
    "collapsed": true
   },
   "source": [
    "---"
   ]
  },
  {
   "cell_type": "markdown",
   "metadata": {},
   "source": [
    "## Check New Func"
   ]
  },
  {
   "cell_type": "code",
   "execution_count": null,
   "metadata": {
    "collapsed": true
   },
   "outputs": [],
   "source": [
    "def magic_func(p, K):\n",
    "    '''    \n",
    "    p[0] = gamma\n",
    "    p[1] = eta\n",
    "    p[2] = ro\n",
    "    p[3] = t\n",
    "    p[4] = sigma\n",
    "    k = ln(K/F)    \n",
    "    '''\n",
    "    gamma, eta, ro, t, sigma = p\n",
    "    \n",
    "    output = []\n",
    "    for k in K:\n",
    "        res = (sigma/2.0)*(1+(ro*eta*k)/((sigma**gamma)*((1+sigma)**(1-gamma)))+np.sqrt(((k*eta)/((sigma**gamma)*((1+sigma)**(1-gamma))) + ro)**2 + 1-ro**2))\n",
    "        output.append(res)\n",
    "        \n",
    "    return output\n",
    "\n",
    "\n",
    "\n",
    "def err_magic_func(p, k, y):\n",
    "    return (magic_func(p, k) - y)  "
   ]
  },
  {
   "cell_type": "code",
   "execution_count": null,
   "metadata": {
    "collapsed": true
   },
   "outputs": [],
   "source": [
    "def magic_func_err(p, *data):\n",
    "    '''    \n",
    "    p[0] = gamma\n",
    "    p[1] = eta\n",
    "    p[2] = ro\n",
    "    p[3] = t\n",
    "    p[4] = sigma\n",
    "    k = ln(K/F)    \n",
    "    '''\n",
    "    gamma, eta, ro, t, sigma = p        \n",
    "    k, y = data\n",
    "    \n",
    "    for i in range(len(k)):\n",
    "        val = (sigma/2.0)*(1+(ro*eta*k[i])/((sigma**gamma)*((1+sigma)**(1-gamma)))+np.sqrt(((k[i]*eta)/((sigma**gamma)*((1+sigma)**(1-gamma))) + ro)**2 + 1-ro**2))\n",
    "        res += (val - y[i])**2\n",
    "    \n",
    "    return res**0.5"
   ]
  },
  {
   "cell_type": "markdown",
   "metadata": {},
   "source": [
    "### Create Synthetic Options"
   ]
  },
  {
   "cell_type": "code",
   "execution_count": null,
   "metadata": {
    "collapsed": false
   },
   "outputs": [],
   "source": [
    "F = 100.0\n",
    "\n",
    "GAMMA = 0.5\n",
    "ETA = 0.5\n",
    "RO = 0.0\n",
    "T = 1.0\n",
    "SIGMA = 0.6\n",
    "\n",
    "strikes = np.arange(80, 121, 1)"
   ]
  },
  {
   "cell_type": "code",
   "execution_count": null,
   "metadata": {
    "collapsed": false
   },
   "outputs": [],
   "source": [
    "options = {}\n",
    "\n",
    "for strike in strikes:\n",
    "    \n",
    "    opt_type = 'C'\n",
    "    if strike < F:\n",
    "        opt_type = 'P' \n",
    "        \n",
    "    opt_name = '_'.join(['OPT', opt_type, str(strike)])\n",
    "    \n",
    "    option = Option(curr_date = '2016-01-01 00:00:00.000',\n",
    "                    contract = opt_name, \n",
    "                    exp_date = '2016-12-31 00:00:00.000',\n",
    "                    tick_price = 0.0,\n",
    "                    tick = 0.0,\n",
    "                    fut_contract = 'FUT',\n",
    "                    strike = strike,\n",
    "                    call = opt_type,                        \n",
    "                    volat = SIGMA,\n",
    "                    theor_price = 0.0,\n",
    "                    fut_price = F)\n",
    "    \n",
    "        \n",
    "    options[opt_name] = option           "
   ]
  },
  {
   "cell_type": "markdown",
   "metadata": {},
   "source": [
    "### Check Calibration Func"
   ]
  },
  {
   "cell_type": "code",
   "execution_count": null,
   "metadata": {
    "collapsed": false
   },
   "outputs": [],
   "source": [
    "p = [GAMMA, ETA, RO, T, SIGMA]\n",
    "\n",
    "x_values = []\n",
    "y_values = []\n",
    "\n",
    "for option in options.values():\n",
    "    x_values.append(option.x)\n",
    "    \n",
    "x_values = np.array(x_values)\n",
    "y_values = np.array(magic_func(p, x_values))"
   ]
  },
  {
   "cell_type": "code",
   "execution_count": null,
   "metadata": {
    "collapsed": false
   },
   "outputs": [],
   "source": [
    "plt.plot(x_values, y_values, 'ro')"
   ]
  },
  {
   "cell_type": "markdown",
   "metadata": {
    "collapsed": false
   },
   "source": [
    "### Reeingering Params with Synthetic Options"
   ]
  },
  {
   "cell_type": "code",
   "execution_count": null,
   "metadata": {
    "collapsed": true
   },
   "outputs": [],
   "source": [
    "# GAMMA, ETA, RO, T, SIGMA\n",
    "guess = np.array([1.0, 1.0, 1.0, 1.0, 1.0])"
   ]
  },
  {
   "cell_type": "code",
   "execution_count": null,
   "metadata": {
    "collapsed": true
   },
   "outputs": [],
   "source": [
    "bounds = ([0.0, 0.0, -1.0, 0.0, 0.0], [1.0, np.inf, 1.0, np.inf, np.inf])"
   ]
  },
  {
   "cell_type": "markdown",
   "metadata": {},
   "source": [
    "### Least Squares with Restrictions"
   ]
  },
  {
   "cell_type": "code",
   "execution_count": null,
   "metadata": {
    "collapsed": false
   },
   "outputs": [],
   "source": [
    "res = optimize.least_squares(fun=err_magic_func, x0=guess, args=(x_values, y_values), bounds=bounds)"
   ]
  },
  {
   "cell_type": "code",
   "execution_count": null,
   "metadata": {
    "collapsed": false
   },
   "outputs": [],
   "source": [
    "res.x"
   ]
  },
  {
   "cell_type": "code",
   "execution_count": null,
   "metadata": {
    "collapsed": false
   },
   "outputs": [],
   "source": [
    "p = [res.x[0], res.x[1], res.x[2], res.x[3], res.x[4]]\n",
    "\n",
    "x_values_new = []\n",
    "y_values_new = []\n",
    "\n",
    "for option in options.values():\n",
    "    x_values_new.append(option.x)    \n",
    "\n",
    "x_values_new = np.array(x_values_new)\n",
    "y_values_new = np.array(magic_func(p, x_values_new))"
   ]
  },
  {
   "cell_type": "code",
   "execution_count": null,
   "metadata": {
    "collapsed": false
   },
   "outputs": [],
   "source": [
    "y_diffs = y_values - y_values_new"
   ]
  },
  {
   "cell_type": "code",
   "execution_count": null,
   "metadata": {
    "collapsed": false
   },
   "outputs": [],
   "source": [
    "plt.plot(x_values, y_diffs, 'yo')"
   ]
  },
  {
   "cell_type": "code",
   "execution_count": null,
   "metadata": {
    "collapsed": false
   },
   "outputs": [],
   "source": [
    "plt.plot(x_values, y_values, 'ro', x_values_new, y_values_new, 'go')"
   ]
  },
  {
   "cell_type": "markdown",
   "metadata": {
    "collapsed": true
   },
   "source": [
    "### Differential Evolution"
   ]
  },
  {
   "cell_type": "code",
   "execution_count": null,
   "metadata": {
    "collapsed": true
   },
   "outputs": [],
   "source": [
    "max_bound = 10**2"
   ]
  },
  {
   "cell_type": "code",
   "execution_count": null,
   "metadata": {
    "collapsed": false
   },
   "outputs": [],
   "source": [
    "bounds = [(0.0, 1.0), (0.0, max_bound), (-1.0, 1.0), (0.0, max_bound), (0.0, max_bound)]"
   ]
  },
  {
   "cell_type": "code",
   "execution_count": null,
   "metadata": {
    "collapsed": false
   },
   "outputs": [],
   "source": [
    "result = optimize.differential_evolution(magic_func_err, bounds, args=(x_values, y_values))"
   ]
  },
  {
   "cell_type": "code",
   "execution_count": null,
   "metadata": {
    "collapsed": false
   },
   "outputs": [],
   "source": [
    "result.x"
   ]
  },
  {
   "cell_type": "code",
   "execution_count": null,
   "metadata": {
    "collapsed": false
   },
   "outputs": [],
   "source": [
    "p = [result.x[0], result.x[1], result.x[2], result.x[3], result.x[4]]\n",
    "\n",
    "x_values_new = np.array(x_values)\n",
    "y_values_new = np.array(magic_func(p, x_values_new))"
   ]
  },
  {
   "cell_type": "code",
   "execution_count": null,
   "metadata": {
    "collapsed": true
   },
   "outputs": [],
   "source": [
    "y_diffs = y_values - y_values_new"
   ]
  },
  {
   "cell_type": "code",
   "execution_count": null,
   "metadata": {
    "collapsed": false
   },
   "outputs": [],
   "source": [
    "plt.plot(x_values, y_diffs, 'yo')"
   ]
  },
  {
   "cell_type": "code",
   "execution_count": null,
   "metadata": {
    "collapsed": false
   },
   "outputs": [],
   "source": [
    "plt.plot(x_values, y_values, 'ro', x_values_new, y_values_new, 'go')"
   ]
  },
  {
   "cell_type": "markdown",
   "metadata": {
    "collapsed": true
   },
   "source": [
    "### Downhill Simplex Algorithm"
   ]
  },
  {
   "cell_type": "code",
   "execution_count": null,
   "metadata": {
    "collapsed": true
   },
   "outputs": [],
   "source": [
    "guess = np.array([0.0, 0.0, 0.0, 0.0, 0.0])\n",
    "guess_ord = guess.tolist()"
   ]
  },
  {
   "cell_type": "code",
   "execution_count": null,
   "metadata": {
    "collapsed": false
   },
   "outputs": [],
   "source": [
    "x_values_ord = x_values.tolist()\n",
    "y_values_ord = y_values.tolist()"
   ]
  },
  {
   "cell_type": "code",
   "execution_count": null,
   "metadata": {
    "collapsed": false
   },
   "outputs": [],
   "source": [
    "res = optimize.fmin(func=magic_func_err, x0=guess_ord, args=(x_values_ord, y_values_ord))"
   ]
  },
  {
   "cell_type": "code",
   "execution_count": null,
   "metadata": {
    "collapsed": false
   },
   "outputs": [],
   "source": [
    "res"
   ]
  },
  {
   "cell_type": "code",
   "execution_count": null,
   "metadata": {
    "collapsed": false
   },
   "outputs": [],
   "source": [
    "x_values_ord_new = np.array(x_values_ord)\n",
    "y_values_ord_new = magic_func(res, x_values_ord)"
   ]
  },
  {
   "cell_type": "code",
   "execution_count": null,
   "metadata": {
    "collapsed": false
   },
   "outputs": [],
   "source": [
    "plt.plot(x_values_ord_new, y_values, 'ro', x_values_ord_new, y_values_ord_new, 'go')"
   ]
  },
  {
   "cell_type": "markdown",
   "metadata": {
    "collapsed": true
   },
   "source": [
    "---"
   ]
  },
  {
   "cell_type": "markdown",
   "metadata": {},
   "source": [
    "### Standard Normal Distribution"
   ]
  },
  {
   "cell_type": "code",
   "execution_count": null,
   "metadata": {
    "collapsed": false
   },
   "outputs": [],
   "source": [
    "from scipy.stats import norm"
   ]
  },
  {
   "cell_type": "code",
   "execution_count": null,
   "metadata": {
    "collapsed": false
   },
   "outputs": [],
   "source": [
    "x = np.linspace(norm.ppf(0.01), norm.ppf(0.99), 100)\n",
    "plt.plot(x, norm.pdf(x))"
   ]
  },
  {
   "cell_type": "code",
   "execution_count": null,
   "metadata": {
    "collapsed": false
   },
   "outputs": [],
   "source": [
    "x = np.linspace(-5, 5, 100)\n",
    "plt.plot(x, norm.cdf(x))"
   ]
  },
  {
   "cell_type": "code",
   "execution_count": null,
   "metadata": {
    "collapsed": false
   },
   "outputs": [],
   "source": [
    "x = np.linspace(-100, 100, 10000)\n",
    "plt.plot(x, norm.ppf(x))"
   ]
  },
  {
   "cell_type": "markdown",
   "metadata": {
    "collapsed": false
   },
   "source": [
    "---"
   ]
  },
  {
   "cell_type": "markdown",
   "metadata": {
    "collapsed": true
   },
   "source": [
    "# Multistage Algorithm"
   ]
  },
  {
   "cell_type": "markdown",
   "metadata": {
    "collapsed": true
   },
   "source": [
    "### Create Synthetic Options Series"
   ]
  },
  {
   "cell_type": "markdown",
   "metadata": {},
   "source": [
    "#### Use previous calibrate functions for volat calculation"
   ]
  },
  {
   "cell_type": "code",
   "execution_count": null,
   "metadata": {
    "collapsed": true
   },
   "outputs": [],
   "source": [
    "def magic_func(p, X):\n",
    "\n",
    "    gamma, eta, ro, t, teta, w0 = p\n",
    "    \n",
    "    output = []\n",
    "    for x in X:\n",
    "        res = (w0 - teta) + (teta/2.0)*(1+(ro*eta*x)/((teta**gamma)*((1+teta)**(1-gamma)))+np.sqrt(((x*eta)/((teta**gamma)*((1+teta)**(1-gamma))) + ro)**2 + 1-ro**2))\n",
    "        output.append(res)\n",
    "        \n",
    "    return output\n",
    "\n",
    "\n",
    "\n",
    "def err_magic_func(p, X, Y):\n",
    "    return (magic_func(p, X) - Y)  "
   ]
  },
  {
   "cell_type": "markdown",
   "metadata": {},
   "source": [
    "#### Set Default Parameters For Default Function"
   ]
  },
  {
   "cell_type": "code",
   "execution_count": null,
   "metadata": {
    "collapsed": false
   },
   "outputs": [],
   "source": [
    "GAMMA = 0.5\n",
    "ETA = 0.5\n",
    "RO = 0.0\n",
    "T = 1.0\n",
    "TETA = 0.1\n",
    "W0 = 1.0\n",
    "p1 = [GAMMA, ETA, RO, T, TETA, W0]"
   ]
  },
  {
   "cell_type": "code",
   "execution_count": null,
   "metadata": {
    "collapsed": true
   },
   "outputs": [],
   "source": [
    "GAMMA = 0.5\n",
    "ETA = 0.5\n",
    "RO = 1.0\n",
    "T = 1.0\n",
    "TETA = 0.5\n",
    "W0 = 1.0\n",
    "p2 = [GAMMA, ETA, RO, T, TETA, W0]"
   ]
  },
  {
   "cell_type": "code",
   "execution_count": null,
   "metadata": {
    "collapsed": true
   },
   "outputs": [],
   "source": [
    "GAMMA = 0.5\n",
    "ETA = 0.5\n",
    "RO = 0.0\n",
    "T = 1.0\n",
    "TETA = 1.5\n",
    "W0 = 1.0\n",
    "p3 = [GAMMA, ETA, RO, T, TETA, W0]"
   ]
  },
  {
   "cell_type": "code",
   "execution_count": null,
   "metadata": {
    "collapsed": true
   },
   "outputs": [],
   "source": [
    "ps = [p1, p2, p3]"
   ]
  },
  {
   "cell_type": "markdown",
   "metadata": {},
   "source": [
    "#### Set Default Parameters For Options Series"
   ]
  },
  {
   "cell_type": "code",
   "execution_count": null,
   "metadata": {
    "collapsed": false
   },
   "outputs": [],
   "source": [
    "# Цены фьючерсов для опционных серий\n",
    "F = [100.0, 110.0, 115.0, 120.0, 140.0, 145.0, 150.0, 180.0, 200.0]\n",
    "\n",
    "# Наборы страйков для каждой из серий\n",
    "strikes = list(map(lambda x: np.arange(round(x*0.5), round(x*1.5 + 1), 1), F))"
   ]
  },
  {
   "cell_type": "code",
   "execution_count": null,
   "metadata": {
    "collapsed": false
   },
   "outputs": [],
   "source": [
    "options_series = {}\n",
    "fut_contracts = []\n",
    "index_p = 0\n",
    "\n",
    "for i in range(len(F)):\n",
    "    \n",
    "    fut_contract = '_'.join(['FUT', str(i + 1)])\n",
    "    fut_contracts.append(fut_contract)\n",
    "    fut_price = F[i]\n",
    "    options_series[fut_contract] = OptionSeries(fut_contract, fut_price)\n",
    "    \n",
    "    for strike in strikes[i]:\n",
    "        \n",
    "        opt_type = 'C'\n",
    "        if strike < F[i]:\n",
    "            opt_type = 'P' \n",
    "    \n",
    "        opt_name = '_'.join(['OPT', opt_type, str(strike)])    \n",
    "        option = Option(curr_date = '2016-01-01 00:00:00.000',\n",
    "                    contract = opt_name, \n",
    "                    exp_date = '2016-12-31 00:00:00.000',\n",
    "                    tick_price = 0.0,\n",
    "                    tick = 0.0,\n",
    "                    fut_contract = fut_contract,\n",
    "                    strike = strike,\n",
    "                    call = opt_type,                        \n",
    "                    w = 0.0,\n",
    "                    theor_price = 0.0,\n",
    "                    fut_price = fut_price)\n",
    "        \n",
    "        # Не охота менять класс Option\n",
    "        option.t = (i + 1) / 1.0\n",
    "        \n",
    "        option.w = magic_func(ps[index_p], [option.x])         \n",
    "        options_series[fut_contract].add_option(option)\n",
    "        \n",
    "    if index_p == 2:\n",
    "        index_p = 0\n",
    "    else:\n",
    "        index_p += 1  "
   ]
  },
  {
   "cell_type": "code",
   "execution_count": null,
   "metadata": {
    "collapsed": false
   },
   "outputs": [],
   "source": [
    "x_values = {}\n",
    "y_values = {}\n",
    "\n",
    "for option_series in options_series.values():\n",
    "    x_values[option_series.fut_contract] = []\n",
    "    y_values[option_series.fut_contract] = []\n",
    "        \n",
    "    for option in option_series.options.values():\n",
    "        x_values[option_series.fut_contract].append(option.x)\n",
    "        y_values[option_series.fut_contract].append(option.w[0])\n",
    "    \n",
    "    x_values[option_series.fut_contract] = np.array(x_values[option_series.fut_contract])\n",
    "    y_values[option_series.fut_contract] = np.array(y_values[option_series.fut_contract])\n",
    "    "
   ]
  },
  {
   "cell_type": "code",
   "execution_count": null,
   "metadata": {
    "collapsed": false
   },
   "outputs": [],
   "source": [
    "plt.plot(x_values['FUT_1'], y_values['FUT_1'], 'ro')"
   ]
  },
  {
   "cell_type": "code",
   "execution_count": null,
   "metadata": {
    "collapsed": false
   },
   "outputs": [],
   "source": [
    "# Two subplots, the axes array is 1-d\n",
    "#f, axarr = plt.subplots(len(x_values), figsize=(10, 15))\n",
    "\n",
    "#for index, fut_contract in enumerate(fut_contracts):\n",
    "#    axarr[index].plot(x_values[fut_contract], y_values[fut_contract], 'r+')\n",
    "#    axarr[index].set_title(fut_contract)"
   ]
  },
  {
   "cell_type": "markdown",
   "metadata": {},
   "source": [
    "### Try Real Option Series"
   ]
  },
  {
   "cell_type": "code",
   "execution_count": 194,
   "metadata": {
    "collapsed": false
   },
   "outputs": [
    {
     "name": "stderr",
     "output_type": "stream",
     "text": [
      "C:\\Users\\DolmatovKI\\Desktop\\WinPython-64bit-3.4.4.1\\python-3.4.4.amd64\\lib\\site-packages\\openpyxl\\workbook\\names\\named_range.py:125: UserWarning: Discarded range with reserved name\n",
      "  warnings.warn(\"Discarded range with reserved name\")\n"
     ]
    }
   ],
   "source": [
    "wb = load_workbook(filename=r'C:\\Users\\DolmatovKI\\Desktop\\WinPython-64bit-3.4.4.1\\notebooks\\Options Data\\RTS-6.16_new.xlsx', \n",
    "                   data_only=True)\n",
    "ws = wb['RTS-6.16 2016-06-10']\n",
    "ws = list(ws)[1:] # remove header"
   ]
  },
  {
   "cell_type": "code",
   "execution_count": 195,
   "metadata": {
    "collapsed": false
   },
   "outputs": [],
   "source": [
    "fut_contract = 'RTS-6.16'\n",
    "fut_price = 87500.0\n",
    "\n",
    "options_series = {}\n",
    "fut_contracts = [fut_contract]\n",
    "fut_prices = [fut_price]\n",
    "options_series[fut_contract] = OptionSeries(fut_contract, fut_price)\n",
    "\n",
    "\n",
    "for index, row in enumerate(ws):\n",
    "    option = Option(curr_date = row[0].value,\n",
    "                    contract = row[1].value, \n",
    "                    exp_date = row[2].value,\n",
    "                    tick_price = row[3].value,\n",
    "                    tick = row[4].value,\n",
    "                    fut_contract = row[5].value,\n",
    "                    strike = row[6].value,\n",
    "                    call = row[7].value,                        \n",
    "                    w = row[8].value,\n",
    "                    theor_price = row[9].value,\n",
    "                    fut_price = row[10].value)\n",
    "    \n",
    "    if option.exp_date != datetime(2016, 9, 15):\n",
    "        continue\n",
    "    \n",
    "    option.w = [option.t * ((option.w / 100.0)**2)]\n",
    "    options_series[fut_contract].add_option(option)\n",
    "    "
   ]
  },
  {
   "cell_type": "code",
   "execution_count": 196,
   "metadata": {
    "collapsed": false
   },
   "outputs": [],
   "source": [
    "x_values = {}\n",
    "y_values = {}\n",
    "\n",
    "for option_series in options_series.values():\n",
    "    x_values[option_series.fut_contract] = []\n",
    "    y_values[option_series.fut_contract] = []\n",
    "        \n",
    "    for option in option_series.options.values():\n",
    "        x_values[option_series.fut_contract].append(option.x)\n",
    "        y_values[option_series.fut_contract].append(option.w[0])\n",
    "    \n",
    "    x_values[option_series.fut_contract] = np.array(x_values[option_series.fut_contract])\n",
    "    y_values[option_series.fut_contract] = np.array(y_values[option_series.fut_contract])"
   ]
  },
  {
   "cell_type": "code",
   "execution_count": 197,
   "metadata": {
    "collapsed": false,
    "scrolled": true
   },
   "outputs": [
    {
     "data": {
      "text/plain": [
       "[<matplotlib.lines.Line2D at 0x911fb38>]"
      ]
     },
     "execution_count": 197,
     "metadata": {},
     "output_type": "execute_result"
    },
    {
     "data": {
      "image/png": "[encoded data removed]",
      "text/plain": [
       "<matplotlib.figure.Figure at 0xb5ab4e0>"
      ]
     },
     "metadata": {},
     "output_type": "display_data"
    }
   ],
   "source": [
    "plt.plot(x_values[fut_contract], y_values[fut_contract], 'ro')"
   ]
  },
  {
   "cell_type": "code",
   "execution_count": null,
   "metadata": {
    "collapsed": false
   },
   "outputs": [],
   "source": []
  },
  {
   "cell_type": "code",
   "execution_count": null,
   "metadata": {
    "collapsed": false
   },
   "outputs": [],
   "source": []
  },
  {
   "cell_type": "code",
   "execution_count": null,
   "metadata": {
    "collapsed": false
   },
   "outputs": [],
   "source": []
  },
  {
   "cell_type": "code",
   "execution_count": null,
   "metadata": {
    "collapsed": true
   },
   "outputs": [],
   "source": []
  },
  {
   "cell_type": "markdown",
   "metadata": {},
   "source": [
    "### № 2 [a Calibration - Skew]"
   ]
  },
  {
   "cell_type": "code",
   "execution_count": 207,
   "metadata": {
    "collapsed": true
   },
   "outputs": [],
   "source": [
    "def a_calibration(w0, key):\n",
    "    \n",
    "    def a_func(p, X):      \n",
    "        a = p[0]    \n",
    "        output = []\n",
    "        for x in X:\n",
    "            res = w0 + a*x\n",
    "            output.append(res)        \n",
    "        return output\n",
    "\n",
    "\n",
    "    def err_a_func(p, X, Y):\n",
    "        return (a_func(p, X) - Y)\n",
    "    \n",
    "    \n",
    "    w_x_plus, w_x_minus = options_series[key].get_w_atm_opts()\n",
    "    atm_opt_plus, atm_opt_minus = options_series[key].get_atm_opts()\n",
    "    a_initial = (w_x_plus - w_x_minus) / (atm_opt_plus.x - atm_opt_minus.x)\n",
    "    guess = np.array([a_initial])\n",
    "\n",
    "    a_plus = (w_x_plus - w0) / (atm_opt_plus.x)\n",
    "    a_minus = (w0 - w_x_minus) / (-atm_opt_minus.x)\n",
    "    if a_minus >= a_plus:    \n",
    "        bounds = ([-np.inf], [np.inf])\n",
    "    else:\n",
    "        bounds = ([a_minus], [a_plus])\n",
    "        \n",
    "    res = optimize.least_squares(fun=err_a_func, x0=guess, args=(x_values[key], y_values[key]), bounds=bounds)\n",
    "    \n",
    "    a_estimated = res.x\n",
    "    \n",
    "    x_values_new = []\n",
    "    y_values_new = []\n",
    "\n",
    "\n",
    "    for option in options_series[key].options.values():\n",
    "        x_values_new.append(option.x)\n",
    "        \n",
    "    x_values_new = np.array(x_values_new)\n",
    "    y_values_new = np.array(a_func(a_estimated, x_values_new))\n",
    "    \n",
    "    #print('a_estimated=%s' % a_estimated)  \n",
    "    #plt.plot(x_values[key], y_values[key], 'ro', x_values_new, y_values_new)\n",
    "    \n",
    "    return a_estimated\n",
    "    "
   ]
  },
  {
   "cell_type": "markdown",
   "metadata": {},
   "source": [
    "### № 3 [b Calibration]"
   ]
  },
  {
   "cell_type": "code",
   "execution_count": 208,
   "metadata": {
    "collapsed": true
   },
   "outputs": [],
   "source": [
    "def b_calibration(w0, key, a_estimated):\n",
    "    \n",
    "    def b_func(p, X):      \n",
    "        b = p[0] \n",
    "        output = []\n",
    "        for x in X:        \n",
    "            res = w0 + a_estimated[0]*x + b*(x**2)\n",
    "            output.append(res)        \n",
    "        return output\n",
    "\n",
    "    def err_b_func(p, X, Y):\n",
    "        return (b_func(p, X) - Y)\n",
    "    \n",
    "    w_x_plus, w_x_minus = options_series[key].get_w_atm_opts()\n",
    "    atm_opt_plus, atm_opt_minus = options_series[key].get_atm_opts()\n",
    "    b_initial = max((w_x_plus - 2*w0 + w_x_minus) / (atm_opt_plus.x - atm_opt_minus.x)**2, 0.0)\n",
    "    guess = np.array([b_initial])\n",
    "    bounds = ([0.0], [np.inf])\n",
    "    \n",
    "    res = optimize.least_squares(fun=err_b_func, x0=guess, args=(x_values[key], y_values[key]), bounds=bounds)\n",
    "    \n",
    "    b_estimated = res.x\n",
    "    \n",
    "    x_values_new = []\n",
    "    y_values_new = []\n",
    "\n",
    "    for option in options_series[key].options.values():\n",
    "        x_values_new.append(option.x)\n",
    "        \n",
    "    x_values_new = np.array(x_values_new)\n",
    "    y_values_new = np.array(b_func(b_estimated, x_values_new))\n",
    "    \n",
    "    sum_errors = sum(list(map(lambda x: x**2, res.fun)))\n",
    "    \n",
    "    #print('b_estimated=%s' % b_estimated)              \n",
    "    #print('sum squared errors=%s' % sum_errors)\n",
    "    \n",
    "    y_diffs = y_values[key] - y_values_new\n",
    "    \n",
    "    \n",
    "    \n",
    "    #f, axarr = plt.subplots(2, figsize=(15, 10))\n",
    "    #axarr[0].plot(x_values[key], y_values[key], 'r+', x_values_new, y_values_new, 'g+')\n",
    "    #axarr[0].set_title('y, y_new')\n",
    "    #axarr[1].plot(x_values_new, y_diffs, 'b+')\n",
    "    #axarr[1].set_title('y - y_new')\n",
    "    \n",
    "    \n",
    "    return b_estimated"
   ]
  },
  {
   "cell_type": "markdown",
   "metadata": {},
   "source": [
    "### № 4 [a & b Calibration]"
   ]
  },
  {
   "cell_type": "code",
   "execution_count": 209,
   "metadata": {
    "collapsed": true
   },
   "outputs": [],
   "source": [
    "def ab_calibration(w0, key, a_estimated, b_estimated):\n",
    "    \n",
    "    def ab_func(p, X):      \n",
    "        a, b = p    \n",
    "        output = []\n",
    "        for x in X:\n",
    "            res = w0 + a*x + b*(x**2)\n",
    "            output.append(res)        \n",
    "        return output\n",
    "\n",
    "\n",
    "    def err_ab_func(p, X, Y):\n",
    "        return (ab_func(p, X) - Y)  \n",
    "    \n",
    "    guess = np.array([a_estimated[0], b_estimated[0]])\n",
    "    bounds = ([-np.inf, 0.0], [np.inf, np.inf])\n",
    "    \n",
    "    res = optimize.least_squares(fun=err_ab_func, x0=guess, args=(x_values[key], y_values[key]), bounds=bounds)\n",
    "    \n",
    "    ab_estimated = res.x\n",
    "    \n",
    "    x_values_new = []\n",
    "    y_values_new = []\n",
    "\n",
    "    for option in options_series[key].options.values():\n",
    "        x_values_new.append(option.x)\n",
    "        \n",
    "    x_values_new = np.array(x_values_new)\n",
    "    y_values_new = np.array(ab_func(ab_estimated, x_values_new))\n",
    "    \n",
    "    sum_errors = sum(list(map(lambda x: x**2, res.fun)))\n",
    "    \n",
    "    print('ab_estimated=%s' % ab_estimated)              \n",
    "    print('sum squared errors=%s' % sum_errors)\n",
    "    print('\\n')\n",
    "        \n",
    "    y_diffs = y_values[key] - y_values_new\n",
    "    \n",
    "    \n",
    "    #f, axarr = plt.subplots(2, figsize=(15, 10))\n",
    "    #axarr[0].plot(x_values[key], y_values[key], 'r+', x_values_new, y_values_new, 'g+')\n",
    "    #axarr[0].set_title('y, y_new')\n",
    "    #axarr[1].plot(x_values_new, y_diffs, 'b+')\n",
    "    #axarr[1].set_title('y - y_new')\n",
    "    \n",
    "    \n",
    "    return ab_estimated"
   ]
  },
  {
   "cell_type": "markdown",
   "metadata": {},
   "source": [
    "### Условие № 5 (то самое)"
   ]
  },
  {
   "cell_type": "code",
   "execution_count": 210,
   "metadata": {
    "collapsed": true
   },
   "outputs": [],
   "source": [
    "def condition(w0, key, a_estimated, b_estimated, delta1, delta2, delta3):\n",
    "    '''\n",
    "    return True - идем дальше, по этапу\n",
    "    return False - перескакиваем на 5.5\n",
    "    '''\n",
    "\n",
    "    def subsidiary_calculations():\n",
    "        \n",
    "        teta_initial = 0.0    \n",
    "        guess = np.array([teta_initial])\n",
    "        bounds = ([0.0], [min(w0, 4/b_estimated)])\n",
    "            \n",
    "        def subsidiary_func(p, X):      \n",
    "            teta = p[0] \n",
    "            output = []\n",
    "            for x in X:\n",
    "                res = w0 - teta/2 + (a_estimated*x)/2 + np.sqrt(b_estimated*teta*x**2 + (teta**2) / 4)\n",
    "                output.append(res)        \n",
    "            return output\n",
    "    \n",
    "    \n",
    "        def err_subsidiary_func(p, X, Y):\n",
    "            return (subsidiary_func(p, X) - Y)\n",
    "        \n",
    "        res = optimize.least_squares(fun=err_subsidiary_func, x0=guess, args=(x_values[key], y_values[key]), bounds=bounds)\n",
    "        teta_estimated = res.x[0]\n",
    "        \n",
    "        if teta_estimated < (4/b_estimated):\n",
    "            phi = np.sqrt((4*b_estimated) / teta_estimated)\n",
    "        else:\n",
    "            phi = min(np.sqrt((4*b_estimated) / teta_estimated), (2 / np.sqrt(teta_estimated)))\n",
    "            \n",
    "        ro = 0.0\n",
    "        return ro, phi, teta_estimated    \n",
    "    \n",
    "    \n",
    "    if abs(a_estimated) <= delta1 and abs(b_estimated) <= delta2:\n",
    "        if (abs(b_estimated/a_estimated) <= delta3):\n",
    "            \n",
    "            if a_estimated > 0:\n",
    "                ro = 1\n",
    "            else:\n",
    "                ro = -1\n",
    "            teta = phi = 0            \n",
    "            #print('Переходим к пункту 5.5')\n",
    "            #print('ro=%s \\nphi=%s \\nteta=%s' % (ro, phi, teta))\n",
    "            return False, ro, phi, teta\n",
    "            \n",
    "            \n",
    "        else:\n",
    "            ro, phi, teta = subsidiary_calculations()\n",
    "            #print('Переходим к пункту 5.5')\n",
    "            #print('ro=%s \\nphi=%s \\nteta=%s' % (ro, phi, teta))\n",
    "            return False, ro, phi, teta\n",
    "    else:\n",
    "        if abs(a_estimated) > delta1 and abs(b_estimated) <= delta2:\n",
    "            if a_estimated > 0:\n",
    "                ro = 1\n",
    "            else:\n",
    "                ro = -1\n",
    "            teta = phi = 0\n",
    "            #print('Переходим к пункту 5.5')\n",
    "            #print('ro=%s \\nphi=%s \\nteta=%s' % (ro, phi, teta))\n",
    "            return False, ro, phi, teta\n",
    "            \n",
    "        elif abs(a_estimated) <= delta1 and abs(b_estimated) > delta2:\n",
    "            ro, phi, teta = subsidiary_calculations()\n",
    "            #print('Переходим к пункту 5.5')\n",
    "            #print('ro=%s \\nphi=%s \\nteta=%s' % (ro, phi, teta))\n",
    "            return False, ro, phi, teta\n",
    "        else:\n",
    "            #print('Переходим к пункту 5.2')\n",
    "            #print('ro=%s \\nphi=%s \\nteta=%s' % (ro, phi, teta))\n",
    "            return True, True, True, True\n",
    "            "
   ]
  },
  {
   "cell_type": "markdown",
   "metadata": {
    "collapsed": true
   },
   "source": [
    "### № 5.2 [Calculate c and d ]"
   ]
  },
  {
   "cell_type": "code",
   "execution_count": 211,
   "metadata": {
    "collapsed": false
   },
   "outputs": [],
   "source": [
    "def cd_calculation(a_estimated, b_estimated):\n",
    "    \n",
    "    if a_estimated > 0:\n",
    "        \n",
    "        if 0 < 1/(4/a_estimated - 1) <= 1 - b_estimated:\n",
    "            c = 1/(4/a_estimated - 1)\n",
    "            d = 1 - b_estimated\n",
    "        else:\n",
    "            c = 0\n",
    "            d = 1\n",
    "    else:\n",
    "        if b_estimated - 1 <= 1/(4/a_estimated + 1) < 0:\n",
    "            c = 1/(4/a_estimated + 1)\n",
    "            d = b_estimated - 1\n",
    "        else:\n",
    "            c = 0\n",
    "            d = -1\n",
    "        \n",
    "    return c, d"
   ]
  },
  {
   "cell_type": "markdown",
   "metadata": {
    "collapsed": true
   },
   "source": [
    "### № 5.3 [ro Calibration]"
   ]
  },
  {
   "cell_type": "code",
   "execution_count": 212,
   "metadata": {
    "collapsed": true
   },
   "outputs": [],
   "source": [
    "def ro_calibration(w0, key, a_estimated, b_estimated, c, d):\n",
    "    \n",
    "    def ro_func(p, X):      \n",
    "        s = p[0]\n",
    "        output = []\n",
    "        for x in X:\n",
    "            res = w0 + (a_estimated / 2)*x + \\\n",
    "            (((1 - s) / s) * ((a_estimated**2) / 8*b_estimated)) * \\\n",
    "            (np.sqrt(s*(((x*4*b_estimated / (a_estimated*(1-s))) + 1)**2) + 1 - s) - 1)\n",
    "            \n",
    "            output.append(res)        \n",
    "        return output\n",
    "    \n",
    "    \n",
    "    def err_ro_func(p, X, Y):\n",
    "        return (ro_func(p, X) - Y) \n",
    "    \n",
    "    s_initial = min(1, d**2)\n",
    "    guess = np.array([s_initial])\n",
    "    bounds = ([c**2], [min(1, d**2)])\n",
    "    \n",
    "    res = optimize.least_squares(fun=err_ro_func, x0=guess, args=(x_values[key], y_values[key]), bounds=bounds)\n",
    "    \n",
    "    s_estimated = res.x\n",
    "    \n",
    "  \n",
    "    x_values_new = []\n",
    "    y_values_new = []\n",
    "\n",
    "    for option in options_series[key].options.values():\n",
    "        x_values_new.append(option.x)\n",
    "        \n",
    "    x_values_new = np.array(x_values_new)\n",
    "    y_values_new = np.array(ro_func(s_estimated, x_values_new))\n",
    "    \n",
    "    if a_estimated > 0:\n",
    "        ro_initial = np.sqrt(s_estimated)\n",
    "    else:\n",
    "        ro_initial = -np.sqrt(s_estimated)\n",
    "        \n",
    "        \n",
    "    sum_errors = sum(list(map(lambda x: x**2, res.fun)))    \n",
    "    \n",
    "    print('ro_initial=%s' % ro_initial)              \n",
    "    print('sum squared errors=%s' % sum_errors)\n",
    "    print('\\n')\n",
    "    \n",
    "    y_diffs = y_values[key] - y_values_new\n",
    "    \n",
    "    \n",
    "    #f, axarr = plt.subplots(2, figsize=(15, 10))\n",
    "    #axarr[0].plot(x_values[key], y_values[key], 'r+', x_values_new, y_values_new, 'g+')\n",
    "    #axarr[0].set_title('y, y_new')\n",
    "    #axarr[1].plot(x_values_new, y_diffs, 'b+')\n",
    "    #axarr[1].set_title('y - y_new')\n",
    "\n",
    "    return ro_initial        "
   ]
  },
  {
   "cell_type": "markdown",
   "metadata": {
    "collapsed": true
   },
   "source": [
    "### № 5.4 alpha and beta Callibration"
   ]
  },
  {
   "cell_type": "code",
   "execution_count": 213,
   "metadata": {
    "collapsed": false
   },
   "outputs": [],
   "source": [
    "def alphabeta_calibration(w0, key, a_estimated, b_estimated, ro_initial):\n",
    "\n",
    "    alpha_initial = a_estimated / ro_initial\n",
    "    beta_initial = (4*b_estimated) / (1 - ro_initial**2)\n",
    "    \n",
    "    def alphabeta_func(p, X):\n",
    "        alpha, beta, ro = p                \n",
    "        output = []\n",
    "        \n",
    "        '''\n",
    "        2) альфа стартовое min(...)\n",
    "        \n",
    "        '''\n",
    "        \n",
    "        if not(0 <= alpha < (4/(1+abs(ro))) and 0 <= beta <= (4/(1+abs(ro))) and alpha <= np.sqrt(w0*beta)):\n",
    "            output.append(10**10) # Такая комбинация параметров нас не устраивает\n",
    "            return output\n",
    "        \n",
    "        for x in X:\n",
    "            res = w0 - ((alpha**2)/2*beta) + (alpha*ro*x)/2 + alpha/(2*beta)*\\\n",
    "            np.sqrt((beta*x+alpha*ro)**2 + (1-ro**2) * alpha**2)\n",
    "            output.append(res)\n",
    "        return output\n",
    "    \n",
    "    \n",
    "    def err_alphabeta_func(p, X, Y):\n",
    "        return (alphabeta_func(p, X) - Y)\n",
    "    \n",
    "    \n",
    "    guess = np.array([min(4/(1.0+abs(ro_initial[0])), alpha_initial[0], np.sqrt(w0*beta_initial[0])), min(4/(1+abs(ro_initial[0])), beta_initial[0]), ro_initial[0]])\n",
    "    if a_estimated > 0:\n",
    "        bounds = ([-np.inf, -np.inf, 0.0], [np.inf, np.inf, 1.0])\n",
    "    else:\n",
    "        bounds = ([-np.inf, -np.inf, -1.0], [np.inf, np.inf, 0.0])\n",
    "    \n",
    "    res = optimize.least_squares(fun=err_alphabeta_func, x0=guess, args=(x_values[key], y_values[key]), bounds=bounds)\n",
    "    \n",
    "    alpha_estimated, beta_estimated, ro_estimated = res.x\n",
    "    \n",
    "    \n",
    "    x_values_new = []\n",
    "    y_values_new = []\n",
    "\n",
    "    for option in options_series[key].options.values():\n",
    "        x_values_new.append(option.x)\n",
    "        \n",
    "    x_values_new = np.array(x_values_new)\n",
    "    y_values_new = np.array(alphabeta_func([alpha_estimated, beta_estimated, ro_estimated], x_values_new))\n",
    "    \n",
    "    sum_errors = sum(list(map(lambda x: x**2, res.fun)))\n",
    "    \n",
    "    print('alpha_estimated=%s \\nbeta_estimated=%s \\nro_estimated=%s' % (alpha_estimated, beta_estimated, ro_estimated))            \n",
    "    print('sum squared errors=%s' % sum_errors)\n",
    "    print('\\n')\n",
    "    \n",
    "    y_diffs = y_values[key] - y_values_new\n",
    "    \n",
    "    \n",
    "    #f, axarr = plt.subplots(2, figsize=(15, 10))\n",
    "    #axarr[0].plot(x_values[key], y_values[key], 'r+', x_values_new, y_values_new, 'g+')\n",
    "    #axarr[0].set_title('y, y_new')\n",
    "    #axarr[1].plot(x_values_new, y_diffs, 'b+')\n",
    "    #axarr[1].set_title('y - y_new')\n",
    "    \n",
    "    return alpha_estimated, beta_estimated, ro_estimated\n",
    "    "
   ]
  },
  {
   "cell_type": "markdown",
   "metadata": {},
   "source": [
    "### № 5.5 final"
   ]
  },
  {
   "cell_type": "code",
   "execution_count": 214,
   "metadata": {
    "collapsed": false
   },
   "outputs": [],
   "source": [
    "def final_calibration(w0, w0_prev, teta_initial, teta_prev, ro_initial, phi_initial):\n",
    "\n",
    "    gamma_initial = 0.5        \n",
    "    eta_initial = phi_initial*(teta_initial**gamma_initial)*((1+teta_initial)**(1-gamma_initial))\n",
    "    \n",
    "    def final_func(p, X):\n",
    "        eta, teta, ro, gamma = p                \n",
    "        output = []\n",
    "        \n",
    "        if not(eta*(1 + abs(ro)) <= 2):\n",
    "            output.append(10**10) # Такая комбинация параметров нас не устраивает\n",
    "            return output\n",
    "        \n",
    "        for x in X:\n",
    "            phi = eta / ((teta**gamma)*(1+teta)**(1-gamma))\n",
    "            res = w0 - teta/2 + (teta*ro*phi*x)/2 + (teta/2)*np.sqrt((phi*x + ro)**2 + 1 - ro**2)\n",
    "    \n",
    "            output.append(res)\n",
    "        return output\n",
    "    \n",
    "    \n",
    "    def err_final_func(p, X, Y):\n",
    "        return (final_func(p, X) - Y)\n",
    "    \n",
    "    \n",
    "    \n",
    "    if np.isnan(teta_prev):\n",
    "        bounds = ([0.0, 0.0, -1.0, 0.0], [np.inf, w0, 1.0, 1.0])\n",
    "        guess = np.array([eta_initial, teta_initial, ro_initial, gamma_initial])\n",
    "    else:\n",
    "        bounds = ([0.0, teta_prev, -1.0, 0.0], [np.inf, max(teta_prev + 10**(-5), min(w0, (teta_prev + w0 - w0_prev))), 1.0, 1.0])\n",
    "        guess = np.array([eta_initial, teta_prev, ro_initial, gamma_initial])\n",
    "        \n",
    "    \n",
    "    res = optimize.least_squares(fun=err_final_func, x0=guess, args=(x_values[key], y_values[key]), bounds=bounds)\n",
    "    \n",
    "    eta_estimated, teta_estimated, ro_estimated, gamma_estimated = res.x\n",
    "    \n",
    "    \n",
    "    \n",
    "    \n",
    "    x_values_new = []\n",
    "    y_values_new = []\n",
    "\n",
    "    for option in options_series[key].options.values():\n",
    "        x_values_new.append(option.x)\n",
    "        \n",
    "    x_values_new = np.array(x_values_new)\n",
    "    y_values_new = np.array(final_func([eta_estimated, teta_estimated, ro_estimated, gamma_estimated], x_values_new))\n",
    "    \n",
    "    sum_errors = sum(list(map(lambda x: x**2, res.fun)))\n",
    "    \n",
    "    print('eta_estimated=%s \\nteta_estimated=%s \\nro_estimated=%s \\ngamma_estimated=%s' % (eta_estimated, teta_estimated, ro_estimated, gamma_estimated))           \n",
    "    print('sum squared errors=%s' % sum_errors)\n",
    "    print('\\n')\n",
    "    \n",
    "    y_diffs = y_values[key] - y_values_new\n",
    "    \n",
    "    \n",
    "   \n",
    "    #f, axarr = plt.subplots(2, figsize=(15, 10))\n",
    "    #axarr[0].plot(x_values[key], y_values[key], 'r+', x_values_new, y_values_new, 'g+')\n",
    "    #axarr[0].set_title('y, y_new')\n",
    "    #axarr[1].plot(x_values_new, y_diffs, 'b+')\n",
    "    #axarr[1].set_title('y - y_new')\n",
    "    \n",
    "    return eta_estimated, teta_estimated, ro_estimated, gamma_estimated\n",
    "    "
   ]
  },
  {
   "cell_type": "code",
   "execution_count": 215,
   "metadata": {
    "collapsed": false
   },
   "outputs": [
    {
     "name": "stdout",
     "output_type": "stream",
     "text": [
      "ab_estimated=[-0.03098987  0.05726941]\n",
      "sum squared errors=0.000114986363751\n",
      "\n",
      "\n",
      "ro_initial=[-0.00780971]\n",
      "sum squared errors=0.00332191169747\n",
      "\n",
      "\n",
      "alpha_estimated=0.0744095493329 \n",
      "beta_estimated=1.65399704554 \n",
      "ro_estimated=-0.744480953378\n",
      "sum squared errors=0.000276896990166\n",
      "\n",
      "\n",
      "eta_estimated=0.716343203651 \n",
      "teta_estimated=0.0284077588682 \n",
      "ro_estimated=-0.401498318893 \n",
      "gamma_estimated=0.448790133272\n",
      "sum squared errors=0.000170390460994\n",
      "\n",
      "\n"
     ]
    }
   ],
   "source": [
    "w0_prev = np.nan\n",
    "teta_prev = np.nan\n",
    "times = []\n",
    "w0s = []\n",
    "\n",
    "output_params = []\n",
    "\n",
    "\n",
    "for key in fut_contracts:\n",
    "    w0 = options_series[key].get_w0()      \n",
    "    a_estimated = a_calibration(w0, key)\n",
    "    b_estimated = b_calibration(w0, key, a_estimated)\n",
    "    a_estimated, b_estimated = ab_calibration(w0, key, a_estimated, b_estimated)\n",
    "    delta1 = delta2 = delta3 = 0.01\n",
    "    res, ro_initial, phi_initial, teta_initial = condition(w0, key, a_estimated, b_estimated, delta1, delta2, delta3)\n",
    "    \n",
    "    if res:\n",
    "        c, d = cd_calculation(a_estimated, b_estimated)\n",
    "        ro_initial = ro_calibration(w0, key, a_estimated, b_estimated, c, d)\n",
    "        alpha_estimated, beta_estimated, ro_estimated = alphabeta_calibration(w0, key, a_estimated, b_estimated, ro_initial)\n",
    "    \n",
    "        phi_initial = beta_estimated\n",
    "        teta_initial = (alpha_estimated**2) / beta_estimated\n",
    "        ro_initial = ro_estimated\n",
    "        \n",
    "    eta_estimated, teta_estimated, ro_estimated, gamma_estimated = final_calibration(w0, w0_prev, teta_initial, teta_prev, ro_initial, phi_initial)\n",
    "    \n",
    "    w0s.append(w0)\n",
    "    w0_prev = w0\n",
    "    teta_prev = teta_estimated    \n",
    "    times.append(options_series[key].get_t_series())\n",
    "    output_params.append((eta_estimated, teta_estimated, ro_estimated, gamma_estimated))\n",
    "    \n",
    "    "
   ]
  },
  {
   "cell_type": "code",
   "execution_count": 126,
   "metadata": {
    "collapsed": false
   },
   "outputs": [],
   "source": [
    "etas = list(map(lambda x: x[0], output_params))\n",
    "tetas = list(map(lambda x: x[1], output_params))\n",
    "ros = list(map(lambda x: x[2], output_params))\n",
    "gammas = list(map(lambda x: x[3], output_params))"
   ]
  },
  {
   "cell_type": "code",
   "execution_count": 127,
   "metadata": {
    "collapsed": false
   },
   "outputs": [],
   "source": [
    "p_estimated = [etas[0], tetas[0], ros[0], gammas[0]]"
   ]
  },
  {
   "cell_type": "code",
   "execution_count": 128,
   "metadata": {
    "collapsed": false
   },
   "outputs": [],
   "source": [
    "def final_func(p, X):\n",
    "        eta, teta, ro, gamma = p                \n",
    "        output = []\n",
    "        \n",
    "        if not(eta*(1 + abs(ro)) <= 2):\n",
    "            output.append(10**10) # Такая комбинация параметров нас не устраивает\n",
    "            return output\n",
    "        \n",
    "        for x in X:\n",
    "            phi = eta / ((teta**gamma)*(1+teta)**(1-gamma))\n",
    "            res = w0 - teta/2 + (teta*ro*phi*x)/2 + (teta/2)*np.sqrt((phi*x + ro)**2 + 1 - ro**2)\n",
    "    \n",
    "            output.append(res)\n",
    "        return output"
   ]
  },
  {
   "cell_type": "code",
   "execution_count": null,
   "metadata": {
    "collapsed": true
   },
   "outputs": [],
   "source": []
  },
  {
   "cell_type": "code",
   "execution_count": 129,
   "metadata": {
    "collapsed": false
   },
   "outputs": [],
   "source": [
    "ys_new = final_func(p_estimated, x_values[fut_contract])"
   ]
  },
  {
   "cell_type": "code",
   "execution_count": 130,
   "metadata": {
    "collapsed": false
   },
   "outputs": [],
   "source": [
    "ys_new_norm = list(map(lambda x: np.sqrt(x/options_series[fut_contract].get_t_series()), ys_new))"
   ]
  },
  {
   "cell_type": "code",
   "execution_count": 131,
   "metadata": {
    "collapsed": true
   },
   "outputs": [],
   "source": [
    "y_values_norm = list(map(lambda x: np.sqrt(x/options_series[fut_contract].get_t_series()), y_values[fut_contract]))"
   ]
  },
  {
   "cell_type": "code",
   "execution_count": null,
   "metadata": {
    "collapsed": false
   },
   "outputs": [],
   "source": []
  },
  {
   "cell_type": "code",
   "execution_count": 132,
   "metadata": {
    "collapsed": false
   },
   "outputs": [
    {
     "data": {
      "text/plain": [
       "[<matplotlib.lines.Line2D at 0x8846ac8>,\n",
       " <matplotlib.lines.Line2D at 0x8846d68>]"
      ]
     },
     "execution_count": 132,
     "metadata": {},
     "output_type": "execute_result"
    },
    {
     "data": {
      "image/png": "[encoded data removed]",
      "text/plain": [
       "<matplotlib.figure.Figure at 0x7edc0b8>"
      ]
     },
     "metadata": {},
     "output_type": "display_data"
    }
   ],
   "source": [
    "plt.figure(num=None, figsize=(15, 10), dpi=500, facecolor='w', edgecolor='k')\n",
    "plt.plot(x_values[fut_contract], y_values_norm, 'ro', x_values[fut_contract], ys_new_norm, 'go')"
   ]
  },
  {
   "cell_type": "code",
   "execution_count": null,
   "metadata": {
    "collapsed": false
   },
   "outputs": [],
   "source": [
    "max_diff = 0.0\n",
    "max_index = 0.0\n",
    "for i in range(len(y_values_norm)):\n",
    "    if abs(y_values_norm[i] - ys_new_norm[i])*100.0 > max_diff:\n",
    "        max_diff = abs(y_values_norm[i] - ys_new_norm[i])*100.0\n",
    "        max_index = i\n",
    "    "
   ]
  },
  {
   "cell_type": "code",
   "execution_count": null,
   "metadata": {
    "collapsed": false
   },
   "outputs": [],
   "source": [
    "max_diff"
   ]
  },
  {
   "cell_type": "code",
   "execution_count": null,
   "metadata": {
    "collapsed": false
   },
   "outputs": [],
   "source": [
    "max_index"
   ]
  },
  {
   "cell_type": "code",
   "execution_count": null,
   "metadata": {
    "collapsed": false
   },
   "outputs": [],
   "source": [
    "y_values_norm[5]"
   ]
  },
  {
   "cell_type": "code",
   "execution_count": null,
   "metadata": {
    "collapsed": false
   },
   "outputs": [],
   "source": [
    "ys_new_norm[5]"
   ]
  },
  {
   "cell_type": "code",
   "execution_count": null,
   "metadata": {
    "collapsed": false
   },
   "outputs": [],
   "source": [
    "x_values[fut_contract][5]"
   ]
  },
  {
   "cell_type": "code",
   "execution_count": null,
   "metadata": {
    "collapsed": false
   },
   "outputs": [],
   "source": []
  },
  {
   "cell_type": "code",
   "execution_count": null,
   "metadata": {
    "collapsed": true
   },
   "outputs": [],
   "source": [
    "def ab_func(p, X):      \n",
    "        a, b = p    \n",
    "        output = []\n",
    "        for x in X:\n",
    "            res = w0 + a*x + b*(x**2)\n",
    "            output.append(res)        \n",
    "        return output"
   ]
  },
  {
   "cell_type": "code",
   "execution_count": null,
   "metadata": {
    "collapsed": true
   },
   "outputs": [],
   "source": [
    "xs_new = np.arange(-0.3, 0.6, 0.01)"
   ]
  },
  {
   "cell_type": "code",
   "execution_count": null,
   "metadata": {
    "collapsed": true
   },
   "outputs": [],
   "source": [
    "ys_new = ab_func([-0.04406356,  0.08808415], xs_new)"
   ]
  },
  {
   "cell_type": "code",
   "execution_count": null,
   "metadata": {
    "collapsed": false
   },
   "outputs": [],
   "source": [
    "plt.plot(x_values[fut_contract], y_values[fut_contract], 'ro', xs_new, ys_new, 'g-')"
   ]
  },
  {
   "cell_type": "code",
   "execution_count": null,
   "metadata": {
    "collapsed": true
   },
   "outputs": [],
   "source": []
  },
  {
   "cell_type": "code",
   "execution_count": null,
   "metadata": {
    "collapsed": false
   },
   "outputs": [],
   "source": [
    "fut_contract"
   ]
  },
  {
   "cell_type": "code",
   "execution_count": null,
   "metadata": {
    "collapsed": true
   },
   "outputs": [],
   "source": []
  },
  {
   "cell_type": "code",
   "execution_count": null,
   "metadata": {
    "collapsed": false
   },
   "outputs": [],
   "source": []
  },
  {
   "cell_type": "code",
   "execution_count": null,
   "metadata": {
    "collapsed": true
   },
   "outputs": [],
   "source": []
  },
  {
   "cell_type": "code",
   "execution_count": null,
   "metadata": {
    "collapsed": false
   },
   "outputs": [],
   "source": [
    "plt.figure(num=None, figsize=(15, 10), dpi=500, facecolor='w', edgecolor='k')\n",
    "plt.title('RTS-9.16 [[eta= 0.6297, tetta= 0.0199, ro= -0.5077, gamma= 0.4623]')\n",
    "plt.plot(x_values[fut_contract], y_values[fut_contract], 'ro', xs_new, ys_new, 'g-')\n",
    "plt.savefig('RTS-9.16.png')"
   ]
  },
  {
   "cell_type": "code",
   "execution_count": null,
   "metadata": {
    "collapsed": true
   },
   "outputs": [],
   "source": []
  },
  {
   "cell_type": "code",
   "execution_count": null,
   "metadata": {
    "collapsed": false
   },
   "outputs": [],
   "source": [
    "from mpl_toolkits.mplot3d import Axes3D\n",
    "from matplotlib import cm\n",
    "import matplotlib.pyplot as plt\n",
    "import numpy as np\n",
    "\n",
    "n_angles = 36\n",
    "n_radii = 8\n",
    "\n",
    "# An array of radii\n",
    "# Does not include radius r=0, this is to eliminate duplicate points\n",
    "radii = np.linspace(0.125, 1.0, n_radii)\n",
    "\n",
    "# An array of angles\n",
    "angles = np.linspace(0, 2*np.pi, n_angles, endpoint=False)\n",
    "\n",
    "# Repeat all angles for each radius\n",
    "angles = np.repeat(angles[..., np.newaxis], n_radii, axis=1)\n",
    "\n",
    "# Convert polar (radii, angles) coords to cartesian (x, y) coords\n",
    "# (0, 0) is added here. There are no duplicate points in the (x, y) plane\n",
    "x = np.append(0, (radii*np.cos(angles)).flatten())\n",
    "y = np.append(0, (radii*np.sin(angles)).flatten())\n",
    "\n",
    "# Pringle surface\n",
    "z = np.sin(-x*y)\n",
    "\n",
    "fig = plt.figure()\n",
    "ax = fig.gca(projection='3d')\n",
    "\n",
    "ax.plot_trisurf(x, y, z, cmap=cm.jet, linewidth=0.2)\n",
    "\n",
    "plt.show()"
   ]
  },
  {
   "cell_type": "code",
   "execution_count": null,
   "metadata": {
    "collapsed": false
   },
   "outputs": [],
   "source": [
    "from mpl_toolkits.mplot3d import Axes3D\n",
    "from matplotlib import cm\n",
    "from matplotlib.ticker import LinearLocator, FormatStrFormatter\n",
    "import matplotlib.pyplot as plt\n",
    "import numpy as np\n",
    "\n",
    "fig = plt.figure()\n",
    "ax = fig.gca(projection='3d')\n",
    "X = np.arange(-5, 5, 0.25)\n",
    "Y = np.arange(-5, 5, 0.25)\n",
    "X, Y = np.meshgrid(X, Y)\n",
    "R = np.sqrt(X**2 + Y**2)\n",
    "Z = np.sin(R)\n",
    "surf = ax.plot_surface(X, Y, Z, rstride=1, cstride=1, cmap=cm.coolwarm,\n",
    "                       linewidth=0, antialiased=False)\n",
    "ax.set_zlim(-1.01, 1.01)\n",
    "\n",
    "ax.zaxis.set_major_locator(LinearLocator(10))\n",
    "ax.zaxis.set_major_formatter(FormatStrFormatter('%.02f'))\n",
    "\n",
    "fig.colorbar(surf, shrink=0.5, aspect=5)\n",
    "\n",
    "plt.show()"
   ]
  },
  {
   "cell_type": "code",
   "execution_count": null,
   "metadata": {
    "collapsed": true
   },
   "outputs": [],
   "source": []
  },
  {
   "cell_type": "code",
   "execution_count": null,
   "metadata": {
    "collapsed": false
   },
   "outputs": [],
   "source": [
    "options_series['RTS-9.16'].get_t_series()"
   ]
  },
  {
   "cell_type": "code",
   "execution_count": null,
   "metadata": {
    "collapsed": true
   },
   "outputs": [],
   "source": []
  },
  {
   "cell_type": "code",
   "execution_count": null,
   "metadata": {
    "collapsed": false
   },
   "outputs": [],
   "source": []
  },
  {
   "cell_type": "code",
   "execution_count": null,
   "metadata": {
    "collapsed": true
   },
   "outputs": [],
   "source": []
  },
  {
   "cell_type": "code",
   "execution_count": null,
   "metadata": {
    "collapsed": false
   },
   "outputs": [],
   "source": []
  },
  {
   "cell_type": "code",
   "execution_count": null,
   "metadata": {
    "collapsed": false
   },
   "outputs": [],
   "source": []
  },
  {
   "cell_type": "markdown",
   "metadata": {},
   "source": [
    "### Call Interpolation"
   ]
  },
  {
   "cell_type": "code",
   "execution_count": null,
   "metadata": {
    "collapsed": true
   },
   "outputs": [],
   "source": [
    "def get_teta(t, tetas, times):\n",
    "    '''\n",
    "    Находим ближайшие t(j) и t(j+1),\n",
    "    а точнее их индексы в списке\n",
    "    '''\n",
    "    next_t = prev_t = np.nan\n",
    "\n",
    "    if t <= times[0]:\n",
    "        return tetas[0]\n",
    "    elif t >= times[-1]:\n",
    "        return tetas[-1]\n",
    "    else:        \n",
    "        for index in range(len(times)):\n",
    "            if t == times[index]: \n",
    "                return tetas[index]\n",
    "            \n",
    "            elif t < times[index]:\n",
    "                next_t = index\n",
    "                prev_t = index - 1                \n",
    "                break\n",
    "                \n",
    "         \n",
    "    teta_t =  tetas[prev_t] + (tetas[next_t] - tetas[prev_t]) * ((t - times[prev_t]) / (times[next_t] - times[prev_t]))\n",
    "    \n",
    "    return teta_t"
   ]
  },
  {
   "cell_type": "code",
   "execution_count": null,
   "metadata": {
    "collapsed": true
   },
   "outputs": [],
   "source": [
    "def get_alpha(t, tetas, times):\n",
    "    '''\n",
    "    Находим ближайшие t(j) и t(j+1),\n",
    "    а точнее их индексы в списке\n",
    "    '''\n",
    "    next_t = prev_t = np.nan\n",
    "\n",
    "    if t <= times[0]:\n",
    "        return 0.0\n",
    "    elif t >= times[-1]:\n",
    "        return 1.0\n",
    "    else:        \n",
    "        for index in range(len(times)):\n",
    "            if t == times[index]: \n",
    "                return 1.0\n",
    "            \n",
    "            elif t < times[index]:\n",
    "                next_t = index\n",
    "                prev_t = index - 1                \n",
    "                break\n",
    "    \n",
    "    teta_t = get_teta(t, tetas, times)\n",
    "    teta_t_prev = get_teta(times[prev_t], tetas, times)\n",
    "    teta_t_next = get_teta(times[next_t], tetas, times)\n",
    "    \n",
    "    # Игорь сказал возвращать единичку\n",
    "    if (teta_t_next - teta_t == 0) or (teta_t_next - teta_t_prev == 0):\n",
    "        return 1.0\n",
    "    \n",
    "    alpha_t = ((np.sqrt(teta_t_next) - np.sqrt(teta_t)) / (np.sqrt(teta_t_next) - np.sqrt(teta_t_prev)))\n",
    "    return alpha_t\n",
    "    "
   ]
  },
  {
   "cell_type": "code",
   "execution_count": null,
   "metadata": {
    "collapsed": true
   },
   "outputs": [],
   "source": [
    "def get_F(t, times, R=0.01):\n",
    "    '''\n",
    "    Так как у нас пока нет кривой\n",
    "    фючерсных цен, используем магию\n",
    "    R - некий параметр.\n",
    "    '''\n",
    "    \n",
    "    if t in times:\n",
    "        return F[times.index(t)]\n",
    "    elif t < times[0]:\n",
    "        return F[0]*np.exp(R*(t - times[0]))     \n",
    "    elif t > times[-1]:\n",
    "        return F[-1]*np.exp(R*(t - times[-1]))      \n",
    "    else:\n",
    "        for index in range(len(times)):            \n",
    "            if t < times[index]:\n",
    "                next_t = index\n",
    "                prev_t = index - 1                \n",
    "                break\n",
    "                \n",
    "        return F[prev_t]*np.exp(R*(t - times[prev_t]))                    "
   ]
  },
  {
   "cell_type": "code",
   "execution_count": null,
   "metadata": {
    "collapsed": false
   },
   "outputs": [],
   "source": [
    "def get_w_from_calibrated_smile(x, t):\n",
    "    '''\n",
    "    Считаем w(x, t) - по новой улыбке.\n",
    "    Пока предполагаем, что лучшей \n",
    "    оказалась последняя формула.\n",
    "    '''\n",
    "    # t - может быть только заданным\n",
    "    index = times.index(t)\n",
    "    \n",
    "    \n",
    "    # Нужно достать параметры для данной улыбки    \n",
    "    eta, teta, ro, gamma = output_params[index]\n",
    "    \n",
    "    w0 = w0s[index]\n",
    "    \n",
    "    phi = eta / ((teta**gamma)*(1+teta)**(1-gamma))\n",
    "    w = w0 - teta/2 + (teta*ro*phi*x)/2 + (teta/2)*np.sqrt((phi*x + ro)**2 + 1 - ro**2)\n",
    "    \n",
    "    return w"
   ]
  },
  {
   "cell_type": "code",
   "execution_count": null,
   "metadata": {
    "collapsed": false
   },
   "outputs": [],
   "source": [
    "def get_call_price(t, tetas, times, x0):\n",
    "    '''\n",
    "    Считаем цену колла\n",
    "    '''\n",
    "    \n",
    "    def get_call_price_from_fix_t(t, x0):\n",
    "            \n",
    "        # Для опционов кратных t \n",
    "        index = times.index(t)\n",
    "        \n",
    "        F_t = F[index]        \n",
    "        w = get_w_from_calibrated_smile(x0, t)        \n",
    "        d_plus = -x0 / np.sqrt(w) + np.sqrt(w) / 2\n",
    "        d_minus = -x0 / np.sqrt(w) - np.sqrt(w) / 2        \n",
    "        call_price = F_t * norm.cdf(d_plus) - F_t * np.exp(x0) * norm.cdf(d_minus)\n",
    "        return call_price\n",
    "    \n",
    "    if t in times:\n",
    "        return get_call_price_from_fix_t(t, x0)\n",
    "\n",
    "    '''\n",
    "    Находим ближайшие t(j) и t(j+1),\n",
    "    а точнее их индексы в списке\n",
    "    '''\n",
    "    next_t = prev_t = np.nan\n",
    "\n",
    "    if t < times[0]:\n",
    "        return get_call_price_from_fix_t(times[0], x0) / (F[0] * np.exp(x0))\n",
    "    elif t > times[-1]:\n",
    "        return get_call_price_from_fix_t(times[-1], x0) / (F[-1] * np.exp(x0))\n",
    "    else:        \n",
    "        for index in range(len(times)):\n",
    "            if t == times[index]: \n",
    "                return 1.0            \n",
    "            elif t < times[index]:\n",
    "                next_t = index\n",
    "                prev_t = index - 1                \n",
    "                break\n",
    "                \n",
    "    call_price_prev_t = get_call_price_from_fix_t(times[prev_t], x0)\n",
    "    call_price_next_t = get_call_price_from_fix_t(times[next_t], x0)\n",
    "    \n",
    "    K_t = get_F(t, times)*np.exp(x0)\n",
    "    K_prev_t = F[prev_t]*np.exp(x0)\n",
    "    K_next_t = F[next_t]*np.exp(x0)\n",
    "    alpha_t = get_alpha(t, tetas, times)\n",
    "    \n",
    "    call_price_t = K_t * ((call_price_prev_t / K_prev_t) * alpha_t + (1 - alpha_t) * (call_price_next_t / K_next_t))\n",
    "    return call_price_t"
   ]
  },
  {
   "cell_type": "code",
   "execution_count": null,
   "metadata": {
    "collapsed": false
   },
   "outputs": [],
   "source": [
    "ys = list(map(lambda x: get_call_price(1.0, tetas, times, x), x_values['FUT_1']))"
   ]
  },
  {
   "cell_type": "code",
   "execution_count": null,
   "metadata": {
    "collapsed": false
   },
   "outputs": [],
   "source": [
    "plt.plot(x_values['FUT_1'], ys, 'ro')"
   ]
  },
  {
   "cell_type": "code",
   "execution_count": null,
   "metadata": {
    "collapsed": false
   },
   "outputs": [],
   "source": [
    "def optimize_w(t, x0, times, delta_min, delta_max):\n",
    "        \n",
    "    def w_func(p, X):\n",
    "        w = p[0]           \n",
    "        output = []\n",
    "                        \n",
    "        for x in X:            \n",
    "            F_t = get_F(t, times)                         \n",
    "            d_plus = -x0 / np.sqrt(w) + (np.sqrt(w) / 2)\n",
    "            d_minus = -x0 / np.sqrt(w) - (np.sqrt(w) / 2)        \n",
    "            call_price = F_t * norm.cdf(d_plus) - F_t * np.exp(x0) * norm.cdf(d_minus)     \n",
    "            output.append(call_price)\n",
    "        return output\n",
    "    \n",
    "    \n",
    "    def err_w_func(p, X, Y):\n",
    "        return (w_func(p, X) - Y)\n",
    "    \n",
    "    \n",
    "    # TODO:\n",
    "    # Нужно найти t(j) и t(j+1)\n",
    "    # и в зависимости от этого скорректировать \n",
    "    # bounds b guess\n",
    "    \n",
    "    \n",
    "    \n",
    "    '''\n",
    "    Находим ближайшие t(j) и t(j+1),\n",
    "    а точнее их индексы в списке\n",
    "    \n",
    "        \n",
    "    next_t = prev_t = np.nan\n",
    "\n",
    "    if t <= times[0]:\n",
    "        bounds = ([delta_min], [get_w_from_calibrated_smile(x0, times[0])])\n",
    "        guess = np.array([delta_min])\n",
    "    elif t >= times[-1]:\n",
    "        bounds = ([get_w_from_calibrated_smile(x0, times[-1])], [delta_max])\n",
    "        guess = np.array([get_w_from_calibrated_smile(x0, times[-1])])\n",
    "    else:        \n",
    "        for index in range(len(times)):\n",
    "            if t == times[index]: \n",
    "                return 1.0            \n",
    "            elif t < times[index]:\n",
    "                next_t = index\n",
    "                prev_t = index - 1                \n",
    "                break\n",
    "                \n",
    "        print(get_w_from_calibrated_smile(x0, times[prev_t]), get_w_from_calibrated_smile(x0, times[next_t]))        \n",
    "        bounds = ([get_w_from_calibrated_smile(x0, times[prev_t])], [get_w_from_calibrated_smile(x0, times[next_t])])\n",
    "        guess = np.array([get_w_from_calibrated_smile(x0, times[prev_t])])\n",
    "    \n",
    "    '''\n",
    "    \n",
    "    \n",
    "    bounds = ([delta_min], [delta_max])\n",
    "    guess = np.array([delta_min])\n",
    "    \n",
    "    xs = np.array([x0])\n",
    "    ys = np.array([get_call_price(t, tetas, times, x0)])\n",
    "    \n",
    "    res = optimize.least_squares(fun=err_w_func, x0=guess, args=(xs, ys), bounds=bounds)\n",
    "    \n",
    "    w_estimated = res.x\n",
    "    return w_estimated"
   ]
  },
  {
   "cell_type": "markdown",
   "metadata": {},
   "source": [
    "### Error Analysis"
   ]
  },
  {
   "cell_type": "code",
   "execution_count": null,
   "metadata": {
    "collapsed": false
   },
   "outputs": [],
   "source": [
    "xs = np.arange(-5.0, 5.0, 0.1)\n",
    "ys = []\n",
    "\n",
    "t = 2.0\n",
    "for x in xs:\n",
    "    w_opt = optimize_w(t=t, x0=x, times=times, delta_min=0.05, delta_max=100.0)\n",
    "    w = w_opt\n",
    "    F_t = get_F(t, times)               \n",
    "    d_plus = -x / np.sqrt(w) + (np.sqrt(w) / 2)\n",
    "    d_minus = -x / np.sqrt(w) - (np.sqrt(w) / 2)        \n",
    "    call_price = F_t * norm.cdf(d_plus) - F_t * np.exp(x) * norm.cdf(d_minus)        \n",
    "    call_price_old = get_call_price(t=t, tetas=tetas, times=times, x0=x)      \n",
    "    ys.append(call_price - call_price_old)"
   ]
  },
  {
   "cell_type": "code",
   "execution_count": null,
   "metadata": {
    "collapsed": false
   },
   "outputs": [],
   "source": [
    "plt.figure(num=None, figsize=(15, 6), dpi=100, facecolor='w', edgecolor='k')\n",
    "plt.title('Kalenkovych Points')\n",
    "plt.plot(xs, ys, 'ro')"
   ]
  },
  {
   "cell_type": "code",
   "execution_count": null,
   "metadata": {
    "collapsed": false
   },
   "outputs": [],
   "source": []
  },
  {
   "cell_type": "code",
   "execution_count": null,
   "metadata": {
    "collapsed": true
   },
   "outputs": [],
   "source": []
  },
  {
   "cell_type": "code",
   "execution_count": null,
   "metadata": {
    "collapsed": true
   },
   "outputs": [],
   "source": []
  },
  {
   "cell_type": "code",
   "execution_count": null,
   "metadata": {
    "collapsed": true
   },
   "outputs": [],
   "source": []
  },
  {
   "cell_type": "code",
   "execution_count": null,
   "metadata": {
    "collapsed": true
   },
   "outputs": [],
   "source": []
  },
  {
   "cell_type": "code",
   "execution_count": null,
   "metadata": {
    "collapsed": true
   },
   "outputs": [],
   "source": []
  },
  {
   "cell_type": "code",
   "execution_count": null,
   "metadata": {
    "collapsed": true
   },
   "outputs": [],
   "source": []
  },
  {
   "cell_type": "code",
   "execution_count": null,
   "metadata": {
    "collapsed": true
   },
   "outputs": [],
   "source": []
  },
  {
   "cell_type": "code",
   "execution_count": null,
   "metadata": {
    "collapsed": false
   },
   "outputs": [],
   "source": []
  },
  {
   "cell_type": "code",
   "execution_count": null,
   "metadata": {
    "collapsed": false
   },
   "outputs": [],
   "source": []
  },
  {
   "cell_type": "code",
   "execution_count": null,
   "metadata": {
    "collapsed": false
   },
   "outputs": [],
   "source": []
  },
  {
   "cell_type": "code",
   "execution_count": null,
   "metadata": {
    "collapsed": false
   },
   "outputs": [],
   "source": []
  },
  {
   "cell_type": "code",
   "execution_count": null,
   "metadata": {
    "collapsed": false
   },
   "outputs": [],
   "source": []
  },
  {
   "cell_type": "code",
   "execution_count": null,
   "metadata": {
    "collapsed": false
   },
   "outputs": [],
   "source": []
  },
  {
   "cell_type": "code",
   "execution_count": null,
   "metadata": {
    "collapsed": false
   },
   "outputs": [],
   "source": []
  },
  {
   "cell_type": "code",
   "execution_count": null,
   "metadata": {
    "collapsed": false
   },
   "outputs": [],
   "source": []
  },
  {
   "cell_type": "code",
   "execution_count": null,
   "metadata": {
    "collapsed": false
   },
   "outputs": [],
   "source": []
  },
  {
   "cell_type": "code",
   "execution_count": null,
   "metadata": {
    "collapsed": false
   },
   "outputs": [],
   "source": []
  },
  {
   "cell_type": "code",
   "execution_count": null,
   "metadata": {
    "collapsed": false
   },
   "outputs": [],
   "source": []
  },
  {
   "cell_type": "code",
   "execution_count": null,
   "metadata": {
    "collapsed": true
   },
   "outputs": [],
   "source": []
  },
  {
   "cell_type": "code",
   "execution_count": null,
   "metadata": {
    "collapsed": false
   },
   "outputs": [],
   "source": []
  },
  {
   "cell_type": "code",
   "execution_count": null,
   "metadata": {
    "collapsed": false
   },
   "outputs": [],
   "source": []
  },
  {
   "cell_type": "code",
   "execution_count": null,
   "metadata": {
    "collapsed": false
   },
   "outputs": [],
   "source": []
  },
  {
   "cell_type": "code",
   "execution_count": null,
   "metadata": {
    "collapsed": false
   },
   "outputs": [],
   "source": []
  },
  {
   "cell_type": "code",
   "execution_count": null,
   "metadata": {
    "collapsed": true
   },
   "outputs": [],
   "source": []
  },
  {
   "cell_type": "code",
   "execution_count": null,
   "metadata": {
    "collapsed": false
   },
   "outputs": [],
   "source": []
  },
  {
   "cell_type": "code",
   "execution_count": null,
   "metadata": {
    "collapsed": false
   },
   "outputs": [],
   "source": []
  },
  {
   "cell_type": "code",
   "execution_count": null,
   "metadata": {
    "collapsed": false
   },
   "outputs": [],
   "source": []
  },
  {
   "cell_type": "code",
   "execution_count": null,
   "metadata": {
    "collapsed": false
   },
   "outputs": [],
   "source": []
  },
  {
   "cell_type": "code",
   "execution_count": null,
   "metadata": {
    "collapsed": false
   },
   "outputs": [],
   "source": []
  },
  {
   "cell_type": "code",
   "execution_count": null,
   "metadata": {
    "collapsed": true
   },
   "outputs": [],
   "source": []
  },
  {
   "cell_type": "code",
   "execution_count": null,
   "metadata": {
    "collapsed": true
   },
   "outputs": [],
   "source": []
  },
  {
   "cell_type": "code",
   "execution_count": null,
   "metadata": {
    "collapsed": true
   },
   "outputs": [],
   "source": []
  },
  {
   "cell_type": "code",
   "execution_count": null,
   "metadata": {
    "collapsed": false
   },
   "outputs": [],
   "source": []
  },
  {
   "cell_type": "code",
   "execution_count": null,
   "metadata": {
    "collapsed": false
   },
   "outputs": [],
   "source": []
  },
  {
   "cell_type": "code",
   "execution_count": null,
   "metadata": {
    "collapsed": false
   },
   "outputs": [],
   "source": []
  },
  {
   "cell_type": "code",
   "execution_count": null,
   "metadata": {
    "collapsed": true
   },
   "outputs": [],
   "source": []
  },
  {
   "cell_type": "code",
   "execution_count": null,
   "metadata": {
    "collapsed": false
   },
   "outputs": [],
   "source": []
  },
  {
   "cell_type": "code",
   "execution_count": null,
   "metadata": {
    "collapsed": true
   },
   "outputs": [],
   "source": []
  },
  {
   "cell_type": "code",
   "execution_count": null,
   "metadata": {
    "collapsed": true
   },
   "outputs": [],
   "source": []
  }
 ],
 "metadata": {
  "kernelspec": {
   "display_name": "Python 3",
   "language": "python",
   "name": "python3"
  },
  "language_info": {
   "codemirror_mode": {
    "name": "ipython",
    "version": 3
   },
   "file_extension": ".py",
   "mimetype": "text/x-python",
   "name": "python",
   "nbconvert_exporter": "python",
   "pygments_lexer": "ipython3",
   "version": "3.4.4"
  }
 },
 "nbformat": 4,
 "nbformat_minor": 0
}
